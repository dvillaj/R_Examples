{
 "cells": [
  {
   "cell_type": "markdown",
   "metadata": {
    "colab_type": "text",
    "id": "view-in-github"
   },
   "source": [
    "<a href=\"https://colab.research.google.com/github/dvillaj/R_Examples/blob/main/Example_Segmentation_and_dimensionality_reduction_in_R.ipynb\" target=\"_parent\"><img src=\"https://colab.research.google.com/assets/colab-badge.svg\" alt=\"Open In Colab\"/></a>"
   ]
  },
  {
   "cell_type": "markdown",
   "metadata": {},
   "source": [
    "# Unsupervised ML Example"
   ]
  },
  {
   "cell_type": "code",
   "execution_count": 1,
   "metadata": {
    "colab": {
     "base_uri": "https://localhost:8080/"
    },
    "id": "McMdMHfrZj64",
    "outputId": "7deeac20-cb29-4d15-85f2-8dc9ed795825"
   },
   "outputs": [
    {
     "name": "stderr",
     "output_type": "stream",
     "text": [
      "-- \u001b[1mAttaching packages\u001b[22m ------------------------------------------------------------------------------- tidyverse 1.3.0 --\n",
      "\n",
      "\u001b[32mv\u001b[39m \u001b[34mggplot2\u001b[39m 3.3.3     \u001b[32mv\u001b[39m \u001b[34mpurrr  \u001b[39m 0.3.4\n",
      "\u001b[32mv\u001b[39m \u001b[34mtibble \u001b[39m 3.1.0     \u001b[32mv\u001b[39m \u001b[34mdplyr  \u001b[39m 1.0.5\n",
      "\u001b[32mv\u001b[39m \u001b[34mtidyr  \u001b[39m 1.1.3     \u001b[32mv\u001b[39m \u001b[34mstringr\u001b[39m 1.4.0\n",
      "\u001b[32mv\u001b[39m \u001b[34mreadr  \u001b[39m 1.4.0     \u001b[32mv\u001b[39m \u001b[34mforcats\u001b[39m 0.5.1\n",
      "\n",
      "-- \u001b[1mConflicts\u001b[22m ---------------------------------------------------------------------------------- tidyverse_conflicts() --\n",
      "\u001b[31mx\u001b[39m \u001b[34mdplyr\u001b[39m::\u001b[32mfilter()\u001b[39m masks \u001b[34mstats\u001b[39m::filter()\n",
      "\u001b[31mx\u001b[39m \u001b[34mdplyr\u001b[39m::\u001b[32mlag()\u001b[39m    masks \u001b[34mstats\u001b[39m::lag()\n",
      "\n"
     ]
    }
   ],
   "source": [
    "library(tidyverse)"
   ]
  },
  {
   "cell_type": "code",
   "execution_count": 2,
   "metadata": {
    "colab": {
     "base_uri": "https://localhost:8080/"
    },
    "id": "kOrgjLn9Zpe0",
    "outputId": "f9a01f51-b9f4-4666-ab16-afc06b4ec43d"
   },
   "outputs": [
    {
     "name": "stdout",
     "output_type": "stream",
     "text": [
      "package 'C50' successfully unpacked and MD5 sums checked\n"
     ]
    },
    {
     "name": "stderr",
     "output_type": "stream",
     "text": [
      "Warning message:\n",
      "\"cannot remove prior installation of package 'C50'\"\n",
      "Warning message in file.copy(savedcopy, lib, recursive = TRUE):\n",
      "\"problema al copiar C:\\Users\\Daniel\\Documents\\R\\R-4.0.5\\library\\00LOCK\\C50\\libs\\x64\\C50.dll  a C:\\Users\\Daniel\\Documents\\R\\R-4.0.5\\library\\C50\\libs\\x64\\C50.dll: Permission denied\"\n",
      "Warning message:\n",
      "\"restored 'C50'\"\n"
     ]
    },
    {
     "name": "stdout",
     "output_type": "stream",
     "text": [
      "\n",
      "The downloaded binary packages are in\n",
      "\tC:\\Users\\Daniel\\AppData\\Local\\Temp\\Rtmp4AfF8H\\downloaded_packages\n"
     ]
    }
   ],
   "source": [
    "install.packages(\"C50\")\n",
    "library(C50)"
   ]
  },
  {
   "cell_type": "code",
   "execution_count": 3,
   "metadata": {
    "colab": {
     "base_uri": "https://localhost:8080/"
    },
    "id": "V6F4yhgqbL2u",
    "outputId": "b085c7ec-7460-4f77-920b-b561c5e25264"
   },
   "outputs": [
    {
     "name": "stdout",
     "output_type": "stream",
     "text": [
      "package 'flexclust' successfully unpacked and MD5 sums checked\n",
      "\n",
      "The downloaded binary packages are in\n",
      "\tC:\\Users\\Daniel\\AppData\\Local\\Temp\\Rtmp4AfF8H\\downloaded_packages\n"
     ]
    },
    {
     "name": "stderr",
     "output_type": "stream",
     "text": [
      "Loading required package: grid\n",
      "\n",
      "Loading required package: lattice\n",
      "\n",
      "Loading required package: modeltools\n",
      "\n",
      "Loading required package: stats4\n",
      "\n"
     ]
    }
   ],
   "source": [
    "install.packages(\"flexclust\")\n",
    "library(flexclust)"
   ]
  },
  {
   "cell_type": "code",
   "execution_count": 4,
   "metadata": {
    "colab": {
     "base_uri": "https://localhost:8080/"
    },
    "id": "ViyTWFijbWjl",
    "outputId": "dd1473b6-200d-445f-e51c-aa28369bdd39"
   },
   "outputs": [
    {
     "name": "stdout",
     "output_type": "stream",
     "text": [
      "package 'modeldata' successfully unpacked and MD5 sums checked\n",
      "\n",
      "The downloaded binary packages are in\n",
      "\tC:\\Users\\Daniel\\AppData\\Local\\Temp\\Rtmp4AfF8H\\downloaded_packages\n"
     ]
    }
   ],
   "source": [
    "install.packages(\"modeldata\")\n",
    "library(modeldata)"
   ]
  },
  {
   "cell_type": "code",
   "execution_count": 5,
   "metadata": {
    "id": "knThXUDhbfSd"
   },
   "outputs": [],
   "source": [
    "data(mlc_churn)"
   ]
  },
  {
   "cell_type": "code",
   "execution_count": 6,
   "metadata": {
    "colab": {
     "base_uri": "https://localhost:8080/"
    },
    "id": "rNZnnr2mbyVG",
    "outputId": "75c0c425-0fa7-4d8a-dbc3-c0480c60e185"
   },
   "outputs": [
    {
     "name": "stdout",
     "output_type": "stream",
     "text": [
      "Rows: 5,000\n",
      "Columns: 20\n",
      "$ state                         \u001b[3m\u001b[90m<fct>\u001b[39m\u001b[23m KS, OH, NJ, OH, OK, AL, MA, MO, LA, WV, ~\n",
      "$ account_length                \u001b[3m\u001b[90m<int>\u001b[39m\u001b[23m 128, 107, 137, 84, 75, 118, 121, 147, 11~\n",
      "$ area_code                     \u001b[3m\u001b[90m<fct>\u001b[39m\u001b[23m area_code_415, area_code_415, area_code_~\n",
      "$ international_plan            \u001b[3m\u001b[90m<fct>\u001b[39m\u001b[23m no, no, no, yes, yes, yes, no, yes, no, ~\n",
      "$ voice_mail_plan               \u001b[3m\u001b[90m<fct>\u001b[39m\u001b[23m yes, yes, no, no, no, no, yes, no, no, y~\n",
      "$ number_vmail_messages         \u001b[3m\u001b[90m<int>\u001b[39m\u001b[23m 25, 26, 0, 0, 0, 0, 24, 0, 0, 37, 0, 0, ~\n",
      "$ total_day_minutes             \u001b[3m\u001b[90m<dbl>\u001b[39m\u001b[23m 265.1, 161.6, 243.4, 299.4, 166.7, 223.4~\n",
      "$ total_day_calls               \u001b[3m\u001b[90m<int>\u001b[39m\u001b[23m 110, 123, 114, 71, 113, 98, 88, 79, 97, ~\n",
      "$ total_day_charge              \u001b[3m\u001b[90m<dbl>\u001b[39m\u001b[23m 45.07, 27.47, 41.38, 50.90, 28.34, 37.98~\n",
      "$ total_eve_minutes             \u001b[3m\u001b[90m<dbl>\u001b[39m\u001b[23m 197.4, 195.5, 121.2, 61.9, 148.3, 220.6,~\n",
      "$ total_eve_calls               \u001b[3m\u001b[90m<int>\u001b[39m\u001b[23m 99, 103, 110, 88, 122, 101, 108, 94, 80,~\n",
      "$ total_eve_charge              \u001b[3m\u001b[90m<dbl>\u001b[39m\u001b[23m 16.78, 16.62, 10.30, 5.26, 12.61, 18.75,~\n",
      "$ total_night_minutes           \u001b[3m\u001b[90m<dbl>\u001b[39m\u001b[23m 244.7, 254.4, 162.6, 196.9, 186.9, 203.9~\n",
      "$ total_night_calls             \u001b[3m\u001b[90m<int>\u001b[39m\u001b[23m 91, 103, 104, 89, 121, 118, 118, 96, 90,~\n",
      "$ total_night_charge            \u001b[3m\u001b[90m<dbl>\u001b[39m\u001b[23m 11.01, 11.45, 7.32, 8.86, 8.41, 9.18, 9.~\n",
      "$ total_intl_minutes            \u001b[3m\u001b[90m<dbl>\u001b[39m\u001b[23m 10.0, 13.7, 12.2, 6.6, 10.1, 6.3, 7.5, 7~\n",
      "$ total_intl_calls              \u001b[3m\u001b[90m<int>\u001b[39m\u001b[23m 3, 3, 5, 7, 3, 6, 7, 6, 4, 5, 6, 5, 2, 5~\n",
      "$ total_intl_charge             \u001b[3m\u001b[90m<dbl>\u001b[39m\u001b[23m 2.70, 3.70, 3.29, 1.78, 2.73, 1.70, 2.03~\n",
      "$ number_customer_service_calls \u001b[3m\u001b[90m<int>\u001b[39m\u001b[23m 1, 1, 0, 2, 3, 0, 3, 0, 1, 0, 4, 0, 1, 3~\n",
      "$ churn                         \u001b[3m\u001b[90m<fct>\u001b[39m\u001b[23m no, no, no, no, no, no, no, no, no, no, ~\n"
     ]
    }
   ],
   "source": [
    "glimpse(mlc_churn)"
   ]
  },
  {
   "cell_type": "markdown",
   "metadata": {},
   "source": [
    "Let's separate the full dataset between train and test\n"
   ]
  },
  {
   "cell_type": "code",
   "execution_count": 7,
   "metadata": {
    "id": "C64zoLFhcs4A"
   },
   "outputs": [],
   "source": [
    "mlc_churn <- mlc_churn %>% mutate(id = row_number())\n",
    "churnTrain <- mlc_churn %>% \n",
    "          sample_frac(.70)\n",
    "churnTest  <- anti_join(mlc_churn, churnTrain, by = 'id')"
   ]
  },
  {
   "cell_type": "markdown",
   "metadata": {},
   "source": [
    "Let's create a segmentation model to make 3 clusters from our clients data"
   ]
  },
  {
   "cell_type": "code",
   "execution_count": 8,
   "metadata": {
    "id": "7GrFdmvIdpyy"
   },
   "outputs": [],
   "source": [
    "set.seed(6)\n",
    "Clientes_Historicos = select(churnTrain, total_day_charge, total_eve_calls, total_eve_charge)"
   ]
  },
  {
   "cell_type": "code",
   "execution_count": 9,
   "metadata": {
    "colab": {
     "base_uri": "https://localhost:8080/",
     "height": 293
    },
    "id": "G8jtJbRhdtaX",
    "outputId": "f447d178-e7a4-4b1c-90ea-7fac2bac87ea"
   },
   "outputs": [
    {
     "data": {
      "text/html": [
       "<table class=\"dataframe\">\n",
       "<caption>A tibble: 10 × 3</caption>\n",
       "<thead>\n",
       "\t<tr><th scope=col>total_day_charge</th><th scope=col>total_eve_calls</th><th scope=col>total_eve_charge</th></tr>\n",
       "\t<tr><th scope=col>&lt;dbl&gt;</th><th scope=col>&lt;int&gt;</th><th scope=col>&lt;dbl&gt;</th></tr>\n",
       "</thead>\n",
       "<tbody>\n",
       "\t<tr><td>24.23</td><td>107</td><td>14.97</td></tr>\n",
       "\t<tr><td>27.39</td><td>111</td><td>14.50</td></tr>\n",
       "\t<tr><td>21.11</td><td>115</td><td>10.53</td></tr>\n",
       "\t<tr><td> 8.87</td><td>113</td><td>18.71</td></tr>\n",
       "\t<tr><td>17.48</td><td> 91</td><td>17.57</td></tr>\n",
       "\t<tr><td>33.95</td><td> 68</td><td> 9.71</td></tr>\n",
       "\t<tr><td>34.87</td><td>123</td><td>17.28</td></tr>\n",
       "\t<tr><td>36.75</td><td>133</td><td>18.89</td></tr>\n",
       "\t<tr><td>28.61</td><td>103</td><td>23.03</td></tr>\n",
       "\t<tr><td>26.50</td><td>112</td><td>19.06</td></tr>\n",
       "</tbody>\n",
       "</table>\n"
      ],
      "text/latex": [
       "A tibble: 10 × 3\n",
       "\\begin{tabular}{lll}\n",
       " total\\_day\\_charge & total\\_eve\\_calls & total\\_eve\\_charge\\\\\n",
       " <dbl> & <int> & <dbl>\\\\\n",
       "\\hline\n",
       "\t 24.23 & 107 & 14.97\\\\\n",
       "\t 27.39 & 111 & 14.50\\\\\n",
       "\t 21.11 & 115 & 10.53\\\\\n",
       "\t  8.87 & 113 & 18.71\\\\\n",
       "\t 17.48 &  91 & 17.57\\\\\n",
       "\t 33.95 &  68 &  9.71\\\\\n",
       "\t 34.87 & 123 & 17.28\\\\\n",
       "\t 36.75 & 133 & 18.89\\\\\n",
       "\t 28.61 & 103 & 23.03\\\\\n",
       "\t 26.50 & 112 & 19.06\\\\\n",
       "\\end{tabular}\n"
      ],
      "text/markdown": [
       "\n",
       "A tibble: 10 × 3\n",
       "\n",
       "| total_day_charge &lt;dbl&gt; | total_eve_calls &lt;int&gt; | total_eve_charge &lt;dbl&gt; |\n",
       "|---|---|---|\n",
       "| 24.23 | 107 | 14.97 |\n",
       "| 27.39 | 111 | 14.50 |\n",
       "| 21.11 | 115 | 10.53 |\n",
       "|  8.87 | 113 | 18.71 |\n",
       "| 17.48 |  91 | 17.57 |\n",
       "| 33.95 |  68 |  9.71 |\n",
       "| 34.87 | 123 | 17.28 |\n",
       "| 36.75 | 133 | 18.89 |\n",
       "| 28.61 | 103 | 23.03 |\n",
       "| 26.50 | 112 | 19.06 |\n",
       "\n"
      ],
      "text/plain": [
       "   total_day_charge total_eve_calls total_eve_charge\n",
       "1  24.23            107             14.97           \n",
       "2  27.39            111             14.50           \n",
       "3  21.11            115             10.53           \n",
       "4   8.87            113             18.71           \n",
       "5  17.48             91             17.57           \n",
       "6  33.95             68              9.71           \n",
       "7  34.87            123             17.28           \n",
       "8  36.75            133             18.89           \n",
       "9  28.61            103             23.03           \n",
       "10 26.50            112             19.06           "
      ]
     },
     "metadata": {},
     "output_type": "display_data"
    }
   ],
   "source": [
    "head(Clientes_Historicos, 10)"
   ]
  },
  {
   "cell_type": "code",
   "execution_count": 10,
   "metadata": {
    "id": "sTou9Xueif9K"
   },
   "outputs": [],
   "source": [
    "clustering_model <- kcca(Clientes_Historicos, k = 3, family = kccaFamily(\"kmeans\"), save.data = TRUE)"
   ]
  },
  {
   "cell_type": "code",
   "execution_count": 11,
   "metadata": {
    "colab": {
     "base_uri": "https://localhost:8080/",
     "height": 207
    },
    "id": "cgHVdqVbnLpB",
    "outputId": "1ea26aac-3f54-45d8-dc80-1e6ccb0902fc"
   },
   "outputs": [
    {
     "data": {
      "text/html": [
       "<table class=\"dataframe\">\n",
       "<caption>A tibble: 6 × 4</caption>\n",
       "<thead>\n",
       "\t<tr><th scope=col>total_day_charge</th><th scope=col>total_eve_calls</th><th scope=col>total_eve_charge</th><th scope=col>clustering_group</th></tr>\n",
       "\t<tr><th scope=col>&lt;dbl&gt;</th><th scope=col>&lt;int&gt;</th><th scope=col>&lt;dbl&gt;</th><th scope=col>&lt;int&gt;</th></tr>\n",
       "</thead>\n",
       "<tbody>\n",
       "\t<tr><td>24.23</td><td>107</td><td>14.97</td><td>3</td></tr>\n",
       "\t<tr><td>27.39</td><td>111</td><td>14.50</td><td>3</td></tr>\n",
       "\t<tr><td>21.11</td><td>115</td><td>10.53</td><td>2</td></tr>\n",
       "\t<tr><td> 8.87</td><td>113</td><td>18.71</td><td>2</td></tr>\n",
       "\t<tr><td>17.48</td><td> 91</td><td>17.57</td><td>3</td></tr>\n",
       "\t<tr><td>33.95</td><td> 68</td><td> 9.71</td><td>1</td></tr>\n",
       "</tbody>\n",
       "</table>\n"
      ],
      "text/latex": [
       "A tibble: 6 × 4\n",
       "\\begin{tabular}{llll}\n",
       " total\\_day\\_charge & total\\_eve\\_calls & total\\_eve\\_charge & clustering\\_group\\\\\n",
       " <dbl> & <int> & <dbl> & <int>\\\\\n",
       "\\hline\n",
       "\t 24.23 & 107 & 14.97 & 3\\\\\n",
       "\t 27.39 & 111 & 14.50 & 3\\\\\n",
       "\t 21.11 & 115 & 10.53 & 2\\\\\n",
       "\t  8.87 & 113 & 18.71 & 2\\\\\n",
       "\t 17.48 &  91 & 17.57 & 3\\\\\n",
       "\t 33.95 &  68 &  9.71 & 1\\\\\n",
       "\\end{tabular}\n"
      ],
      "text/markdown": [
       "\n",
       "A tibble: 6 × 4\n",
       "\n",
       "| total_day_charge &lt;dbl&gt; | total_eve_calls &lt;int&gt; | total_eve_charge &lt;dbl&gt; | clustering_group &lt;int&gt; |\n",
       "|---|---|---|---|\n",
       "| 24.23 | 107 | 14.97 | 3 |\n",
       "| 27.39 | 111 | 14.50 | 3 |\n",
       "| 21.11 | 115 | 10.53 | 2 |\n",
       "|  8.87 | 113 | 18.71 | 2 |\n",
       "| 17.48 |  91 | 17.57 | 3 |\n",
       "| 33.95 |  68 |  9.71 | 1 |\n",
       "\n"
      ],
      "text/plain": [
       "  total_day_charge total_eve_calls total_eve_charge clustering_group\n",
       "1 24.23            107             14.97            3               \n",
       "2 27.39            111             14.50            3               \n",
       "3 21.11            115             10.53            2               \n",
       "4  8.87            113             18.71            2               \n",
       "5 17.48             91             17.57            3               \n",
       "6 33.95             68              9.71            1               "
      ]
     },
     "metadata": {},
     "output_type": "display_data"
    }
   ],
   "source": [
    "Clientes_Historicos %>% \n",
    "  mutate(clustering_group = clusters(clustering_model)) %>%\n",
    "  head()"
   ]
  },
  {
   "cell_type": "markdown",
   "metadata": {},
   "source": [
    "Let's create new variables which summary all actual variables with a dimensional reduction model"
   ]
  },
  {
   "cell_type": "code",
   "execution_count": 2,
   "metadata": {
    "id": "WQmvzvfRnbgK"
   },
   "outputs": [
    {
     "ename": "ERROR",
     "evalue": "Error in prcomp(Clientes_Historicos): objeto 'Clientes_Historicos' no encontrado\n",
     "output_type": "error",
     "traceback": [
      "Error in prcomp(Clientes_Historicos): objeto 'Clientes_Historicos' no encontrado\nTraceback:\n",
      "1. prcomp(Clientes_Historicos)"
     ]
    }
   ],
   "source": [
    "dimensionality_reduction_model <- prcomp(Clientes_Historicos)"
   ]
  },
  {
   "cell_type": "code",
   "execution_count": 13,
   "metadata": {
    "colab": {
     "base_uri": "https://localhost:8080/",
     "height": 271
    },
    "id": "bYtadcvOnlpj",
    "outputId": "32e8ad95-5ab3-42bc-bbde-9ce97907a9d0"
   },
   "outputs": [
    {
     "data": {
      "text/html": [
       "<table class=\"dataframe\">\n",
       "<caption>A matrix: 10 × 3 of type dbl</caption>\n",
       "<thead>\n",
       "\t<tr><th scope=col>PC1</th><th scope=col>PC2</th><th scope=col>PC3</th></tr>\n",
       "</thead>\n",
       "<tbody>\n",
       "\t<tr><td>  6.755405</td><td> 6.437024</td><td>-2.1526028</td></tr>\n",
       "\t<tr><td> 10.759214</td><td> 3.279211</td><td>-2.6045193</td></tr>\n",
       "\t<tr><td> 14.749414</td><td> 9.539140</td><td>-6.6158652</td></tr>\n",
       "\t<tr><td> 12.737528</td><td>21.827907</td><td> 1.4877455</td></tr>\n",
       "\t<tr><td> -9.252001</td><td>13.182940</td><td> 0.4121729</td></tr>\n",
       "\t<tr><td>-32.234560</td><td>-3.365495</td><td>-7.3332639</td></tr>\n",
       "\t<tr><td> 22.769989</td><td>-4.167860</td><td> 0.2170417</td></tr>\n",
       "\t<tr><td> 32.773104</td><td>-6.024964</td><td> 1.8342514</td></tr>\n",
       "\t<tr><td>  2.764637</td><td> 2.102838</td><td> 5.9366860</td></tr>\n",
       "\t<tr><td> 11.760144</td><td> 4.199207</td><td> 1.9493193</td></tr>\n",
       "</tbody>\n",
       "</table>\n"
      ],
      "text/latex": [
       "A matrix: 10 × 3 of type dbl\n",
       "\\begin{tabular}{lll}\n",
       " PC1 & PC2 & PC3\\\\\n",
       "\\hline\n",
       "\t   6.755405 &  6.437024 & -2.1526028\\\\\n",
       "\t  10.759214 &  3.279211 & -2.6045193\\\\\n",
       "\t  14.749414 &  9.539140 & -6.6158652\\\\\n",
       "\t  12.737528 & 21.827907 &  1.4877455\\\\\n",
       "\t  -9.252001 & 13.182940 &  0.4121729\\\\\n",
       "\t -32.234560 & -3.365495 & -7.3332639\\\\\n",
       "\t  22.769989 & -4.167860 &  0.2170417\\\\\n",
       "\t  32.773104 & -6.024964 &  1.8342514\\\\\n",
       "\t   2.764637 &  2.102838 &  5.9366860\\\\\n",
       "\t  11.760144 &  4.199207 &  1.9493193\\\\\n",
       "\\end{tabular}\n"
      ],
      "text/markdown": [
       "\n",
       "A matrix: 10 × 3 of type dbl\n",
       "\n",
       "| PC1 | PC2 | PC3 |\n",
       "|---|---|---|\n",
       "|   6.755405 |  6.437024 | -2.1526028 |\n",
       "|  10.759214 |  3.279211 | -2.6045193 |\n",
       "|  14.749414 |  9.539140 | -6.6158652 |\n",
       "|  12.737528 | 21.827907 |  1.4877455 |\n",
       "|  -9.252001 | 13.182940 |  0.4121729 |\n",
       "| -32.234560 | -3.365495 | -7.3332639 |\n",
       "|  22.769989 | -4.167860 |  0.2170417 |\n",
       "|  32.773104 | -6.024964 |  1.8342514 |\n",
       "|   2.764637 |  2.102838 |  5.9366860 |\n",
       "|  11.760144 |  4.199207 |  1.9493193 |\n",
       "\n"
      ],
      "text/plain": [
       "      PC1        PC2       PC3       \n",
       " [1,]   6.755405  6.437024 -2.1526028\n",
       " [2,]  10.759214  3.279211 -2.6045193\n",
       " [3,]  14.749414  9.539140 -6.6158652\n",
       " [4,]  12.737528 21.827907  1.4877455\n",
       " [5,]  -9.252001 13.182940  0.4121729\n",
       " [6,] -32.234560 -3.365495 -7.3332639\n",
       " [7,]  22.769989 -4.167860  0.2170417\n",
       " [8,]  32.773104 -6.024964  1.8342514\n",
       " [9,]   2.764637  2.102838  5.9366860\n",
       "[10,]  11.760144  4.199207  1.9493193"
      ]
     },
     "metadata": {},
     "output_type": "display_data"
    }
   ],
   "source": [
    "head(dimensionality_reduction_model$x, 10)"
   ]
  },
  {
   "cell_type": "markdown",
   "metadata": {},
   "source": [
    "Let's show all original variables, the calculated segment, and the new variables from the dimensional reduction model"
   ]
  },
  {
   "cell_type": "code",
   "execution_count": 14,
   "metadata": {
    "id": "hR0ktPFEn1e7"
   },
   "outputs": [],
   "source": [
    "Clientes_Historicos <- mutate(Clientes_Historicos,\n",
    "    clustering_group = clusters(clustering_model),\n",
    "    PC1 = dimensionality_reduction_model$x[, \"PC1\"],\n",
    "    PC2 = dimensionality_reduction_model$x[, \"PC2\"]\n",
    "  )"
   ]
  },
  {
   "cell_type": "code",
   "execution_count": 15,
   "metadata": {
    "colab": {
     "base_uri": "https://localhost:8080/",
     "height": 293
    },
    "id": "daj9jhdBoF8R",
    "outputId": "9a08a3d6-0ef5-483d-ed3e-04caa7b0989a"
   },
   "outputs": [
    {
     "data": {
      "text/html": [
       "<table class=\"dataframe\">\n",
       "<caption>A tibble: 10 × 6</caption>\n",
       "<thead>\n",
       "\t<tr><th scope=col>total_day_charge</th><th scope=col>total_eve_calls</th><th scope=col>total_eve_charge</th><th scope=col>clustering_group</th><th scope=col>PC1</th><th scope=col>PC2</th></tr>\n",
       "\t<tr><th scope=col>&lt;dbl&gt;</th><th scope=col>&lt;int&gt;</th><th scope=col>&lt;dbl&gt;</th><th scope=col>&lt;int&gt;</th><th scope=col>&lt;dbl&gt;</th><th scope=col>&lt;dbl&gt;</th></tr>\n",
       "</thead>\n",
       "<tbody>\n",
       "\t<tr><td>24.23</td><td>107</td><td>14.97</td><td>3</td><td>  6.755405</td><td> 6.437024</td></tr>\n",
       "\t<tr><td>27.39</td><td>111</td><td>14.50</td><td>3</td><td> 10.759214</td><td> 3.279211</td></tr>\n",
       "\t<tr><td>21.11</td><td>115</td><td>10.53</td><td>2</td><td> 14.749414</td><td> 9.539140</td></tr>\n",
       "\t<tr><td> 8.87</td><td>113</td><td>18.71</td><td>2</td><td> 12.737528</td><td>21.827907</td></tr>\n",
       "\t<tr><td>17.48</td><td> 91</td><td>17.57</td><td>3</td><td> -9.252001</td><td>13.182940</td></tr>\n",
       "\t<tr><td>33.95</td><td> 68</td><td> 9.71</td><td>1</td><td>-32.234560</td><td>-3.365495</td></tr>\n",
       "\t<tr><td>34.87</td><td>123</td><td>17.28</td><td>2</td><td> 22.769989</td><td>-4.167860</td></tr>\n",
       "\t<tr><td>36.75</td><td>133</td><td>18.89</td><td>2</td><td> 32.773104</td><td>-6.024964</td></tr>\n",
       "\t<tr><td>28.61</td><td>103</td><td>23.03</td><td>3</td><td>  2.764637</td><td> 2.102838</td></tr>\n",
       "\t<tr><td>26.50</td><td>112</td><td>19.06</td><td>2</td><td> 11.760144</td><td> 4.199207</td></tr>\n",
       "</tbody>\n",
       "</table>\n"
      ],
      "text/latex": [
       "A tibble: 10 × 6\n",
       "\\begin{tabular}{llllll}\n",
       " total\\_day\\_charge & total\\_eve\\_calls & total\\_eve\\_charge & clustering\\_group & PC1 & PC2\\\\\n",
       " <dbl> & <int> & <dbl> & <int> & <dbl> & <dbl>\\\\\n",
       "\\hline\n",
       "\t 24.23 & 107 & 14.97 & 3 &   6.755405 &  6.437024\\\\\n",
       "\t 27.39 & 111 & 14.50 & 3 &  10.759214 &  3.279211\\\\\n",
       "\t 21.11 & 115 & 10.53 & 2 &  14.749414 &  9.539140\\\\\n",
       "\t  8.87 & 113 & 18.71 & 2 &  12.737528 & 21.827907\\\\\n",
       "\t 17.48 &  91 & 17.57 & 3 &  -9.252001 & 13.182940\\\\\n",
       "\t 33.95 &  68 &  9.71 & 1 & -32.234560 & -3.365495\\\\\n",
       "\t 34.87 & 123 & 17.28 & 2 &  22.769989 & -4.167860\\\\\n",
       "\t 36.75 & 133 & 18.89 & 2 &  32.773104 & -6.024964\\\\\n",
       "\t 28.61 & 103 & 23.03 & 3 &   2.764637 &  2.102838\\\\\n",
       "\t 26.50 & 112 & 19.06 & 2 &  11.760144 &  4.199207\\\\\n",
       "\\end{tabular}\n"
      ],
      "text/markdown": [
       "\n",
       "A tibble: 10 × 6\n",
       "\n",
       "| total_day_charge &lt;dbl&gt; | total_eve_calls &lt;int&gt; | total_eve_charge &lt;dbl&gt; | clustering_group &lt;int&gt; | PC1 &lt;dbl&gt; | PC2 &lt;dbl&gt; |\n",
       "|---|---|---|---|---|---|\n",
       "| 24.23 | 107 | 14.97 | 3 |   6.755405 |  6.437024 |\n",
       "| 27.39 | 111 | 14.50 | 3 |  10.759214 |  3.279211 |\n",
       "| 21.11 | 115 | 10.53 | 2 |  14.749414 |  9.539140 |\n",
       "|  8.87 | 113 | 18.71 | 2 |  12.737528 | 21.827907 |\n",
       "| 17.48 |  91 | 17.57 | 3 |  -9.252001 | 13.182940 |\n",
       "| 33.95 |  68 |  9.71 | 1 | -32.234560 | -3.365495 |\n",
       "| 34.87 | 123 | 17.28 | 2 |  22.769989 | -4.167860 |\n",
       "| 36.75 | 133 | 18.89 | 2 |  32.773104 | -6.024964 |\n",
       "| 28.61 | 103 | 23.03 | 3 |   2.764637 |  2.102838 |\n",
       "| 26.50 | 112 | 19.06 | 2 |  11.760144 |  4.199207 |\n",
       "\n"
      ],
      "text/plain": [
       "   total_day_charge total_eve_calls total_eve_charge clustering_group\n",
       "1  24.23            107             14.97            3               \n",
       "2  27.39            111             14.50            3               \n",
       "3  21.11            115             10.53            2               \n",
       "4   8.87            113             18.71            2               \n",
       "5  17.48             91             17.57            3               \n",
       "6  33.95             68              9.71            1               \n",
       "7  34.87            123             17.28            2               \n",
       "8  36.75            133             18.89            2               \n",
       "9  28.61            103             23.03            3               \n",
       "10 26.50            112             19.06            2               \n",
       "   PC1        PC2      \n",
       "1    6.755405  6.437024\n",
       "2   10.759214  3.279211\n",
       "3   14.749414  9.539140\n",
       "4   12.737528 21.827907\n",
       "5   -9.252001 13.182940\n",
       "6  -32.234560 -3.365495\n",
       "7   22.769989 -4.167860\n",
       "8   32.773104 -6.024964\n",
       "9    2.764637  2.102838\n",
       "10  11.760144  4.199207"
      ]
     },
     "metadata": {},
     "output_type": "display_data"
    }
   ],
   "source": [
    "head(Clientes_Historicos, 10)"
   ]
  },
  {
   "cell_type": "code",
   "execution_count": 16,
   "metadata": {
    "colab": {
     "base_uri": "https://localhost:8080/",
     "height": 437
    },
    "id": "lhW6ZipjodHW",
    "outputId": "643bd310-503e-4078-aab1-e739276efc4f"
   },
   "outputs": [
    {
     "data": {
      "image/png": "[encoded data removed]",
      "text/plain": [
       "plot without title"
      ]
     },
     "metadata": {
      "image/png": {
       "height": 420,
       "width": 420
      }
     },
     "output_type": "display_data"
    }
   ],
   "source": [
    "ggplot(Clientes_Historicos, aes(PC1, PC2)) + geom_point()"
   ]
  },
  {
   "cell_type": "code",
   "execution_count": 17,
   "metadata": {
    "colab": {
     "base_uri": "https://localhost:8080/",
     "height": 437
    },
    "id": "DUREsFS4oqYs",
    "outputId": "9eca00c9-6b1b-48d2-c131-3bb7c1ffad46"
   },
   "outputs": [
    {
     "data": {
      "image/png": "[encoded data removed]",
      "text/plain": [
       "plot without title"
      ]
     },
     "metadata": {
      "image/png": {
       "height": 420,
       "width": 420
      }
     },
     "output_type": "display_data"
    }
   ],
   "source": [
    "ggplot(Clientes_Historicos, aes(PC1, PC2)) + \n",
    "  geom_point(aes(color = factor(clustering_group))) + \n",
    "  labs(color = \"Cluster\")"
   ]
  },
  {
   "cell_type": "markdown",
   "metadata": {},
   "source": [
    "Let's calculate the segment and the dimension reduction variables on the test dataset"
   ]
  },
  {
   "cell_type": "code",
   "execution_count": 18,
   "metadata": {
    "id": "q9sCx5Z7o3qL"
   },
   "outputs": [],
   "source": [
    "Clientes_Nuevos <- select(churnTest, total_day_charge, total_eve_calls, total_eve_charge)"
   ]
  },
  {
   "cell_type": "code",
   "execution_count": 19,
   "metadata": {
    "colab": {
     "base_uri": "https://localhost:8080/",
     "height": 186
    },
    "id": "QBstp1Y-pOeY",
    "outputId": "fd0ede7d-dd95-4410-a3d4-a1c0ea3f9465"
   },
   "outputs": [
    {
     "data": {
      "text/html": [
       "<table class=\"dataframe\">\n",
       "<caption>A tibble: 5 × 3</caption>\n",
       "<thead>\n",
       "\t<tr><th scope=col>total_day_charge</th><th scope=col>total_eve_calls</th><th scope=col>total_eve_charge</th></tr>\n",
       "\t<tr><th scope=col>&lt;dbl&gt;</th><th scope=col>&lt;int&gt;</th><th scope=col>&lt;dbl&gt;</th></tr>\n",
       "</thead>\n",
       "<tbody>\n",
       "\t<tr><td>27.47</td><td>103</td><td>16.62</td></tr>\n",
       "\t<tr><td>50.90</td><td> 88</td><td> 5.26</td></tr>\n",
       "\t<tr><td>37.98</td><td>101</td><td>18.75</td></tr>\n",
       "\t<tr><td>37.09</td><td>108</td><td>29.62</td></tr>\n",
       "\t<tr><td>26.69</td><td> 94</td><td> 8.76</td></tr>\n",
       "</tbody>\n",
       "</table>\n"
      ],
      "text/latex": [
       "A tibble: 5 × 3\n",
       "\\begin{tabular}{lll}\n",
       " total\\_day\\_charge & total\\_eve\\_calls & total\\_eve\\_charge\\\\\n",
       " <dbl> & <int> & <dbl>\\\\\n",
       "\\hline\n",
       "\t 27.47 & 103 & 16.62\\\\\n",
       "\t 50.90 &  88 &  5.26\\\\\n",
       "\t 37.98 & 101 & 18.75\\\\\n",
       "\t 37.09 & 108 & 29.62\\\\\n",
       "\t 26.69 &  94 &  8.76\\\\\n",
       "\\end{tabular}\n"
      ],
      "text/markdown": [
       "\n",
       "A tibble: 5 × 3\n",
       "\n",
       "| total_day_charge &lt;dbl&gt; | total_eve_calls &lt;int&gt; | total_eve_charge &lt;dbl&gt; |\n",
       "|---|---|---|\n",
       "| 27.47 | 103 | 16.62 |\n",
       "| 50.90 |  88 |  5.26 |\n",
       "| 37.98 | 101 | 18.75 |\n",
       "| 37.09 | 108 | 29.62 |\n",
       "| 26.69 |  94 |  8.76 |\n",
       "\n"
      ],
      "text/plain": [
       "  total_day_charge total_eve_calls total_eve_charge\n",
       "1 27.47            103             16.62           \n",
       "2 50.90             88              5.26           \n",
       "3 37.98            101             18.75           \n",
       "4 37.09            108             29.62           \n",
       "5 26.69             94              8.76           "
      ]
     },
     "metadata": {},
     "output_type": "display_data"
    }
   ],
   "source": [
    "head(Clientes_Nuevos, 5)"
   ]
  },
  {
   "cell_type": "code",
   "execution_count": 20,
   "metadata": {
    "id": "ghxbT-YOpP5D"
   },
   "outputs": [],
   "source": [
    "clustering_group_prediction <- clusters(clustering_model, Clientes_Nuevos)"
   ]
  },
  {
   "cell_type": "code",
   "execution_count": 21,
   "metadata": {
    "id": "1x5ypbGUpfDr"
   },
   "outputs": [],
   "source": [
    "dimensionality_reduction_model_nuevo <- prcomp(Clientes_Nuevos)"
   ]
  },
  {
   "cell_type": "code",
   "execution_count": 22,
   "metadata": {
    "id": "xOEPVD7WpoCS"
   },
   "outputs": [],
   "source": [
    "Clientes_Nuevos <- mutate(Clientes_Nuevos, \n",
    "    clustering_group_prediction,\n",
    "    PC1 = dimensionality_reduction_model_nuevo$x[, \"PC1\"],\n",
    "    PC2 = dimensionality_reduction_model_nuevo$x[, \"PC2\"])"
   ]
  },
  {
   "cell_type": "code",
   "execution_count": 23,
   "metadata": {
    "colab": {
     "base_uri": "https://localhost:8080/",
     "height": 293
    },
    "id": "toJsK9d3qSC4",
    "outputId": "e60cf151-1fc1-46ba-c21c-df04a8291e1b"
   },
   "outputs": [
    {
     "data": {
      "text/html": [
       "<table class=\"dataframe\">\n",
       "<caption>A tibble: 10 × 6</caption>\n",
       "<thead>\n",
       "\t<tr><th scope=col>total_day_charge</th><th scope=col>total_eve_calls</th><th scope=col>total_eve_charge</th><th scope=col>clustering_group_prediction</th><th scope=col>PC1</th><th scope=col>PC2</th></tr>\n",
       "\t<tr><th scope=col>&lt;dbl&gt;</th><th scope=col>&lt;int&gt;</th><th scope=col>&lt;dbl&gt;</th><th scope=col>&lt;int&gt;</th><th scope=col>&lt;dbl&gt;</th><th scope=col>&lt;dbl&gt;</th></tr>\n",
       "</thead>\n",
       "<tbody>\n",
       "\t<tr><td>27.47</td><td>103</td><td>16.62</td><td>3</td><td>-2.871341</td><td>  3.162784</td></tr>\n",
       "\t<tr><td>50.90</td><td> 88</td><td> 5.26</td><td>3</td><td>11.834075</td><td>-20.539510</td></tr>\n",
       "\t<tr><td>37.98</td><td>101</td><td>18.75</td><td>3</td><td>-1.010412</td><td> -7.357110</td></tr>\n",
       "\t<tr><td>37.09</td><td>108</td><td>29.62</td><td>3</td><td>-8.009268</td><td> -6.299821</td></tr>\n",
       "\t<tr><td>26.69</td><td> 94</td><td> 8.76</td><td>3</td><td> 6.146017</td><td>  3.770453</td></tr>\n",
       "\t<tr><td>21.90</td><td> 71</td><td> 8.92</td><td>1</td><td>29.206217</td><td>  8.261985</td></tr>\n",
       "\t<tr><td>26.62</td><td> 75</td><td>21.05</td><td>1</td><td>25.132838</td><td>  3.679729</td></tr>\n",
       "\t<tr><td>20.52</td><td> 76</td><td>26.11</td><td>1</td><td>24.207152</td><td>  9.827614</td></tr>\n",
       "\t<tr><td>26.37</td><td> 93</td><td>20.37</td><td>3</td><td> 7.138314</td><td>  4.158979</td></tr>\n",
       "\t<tr><td>13.79</td><td> 72</td><td>20.84</td><td>1</td><td>28.299720</td><td> 16.467843</td></tr>\n",
       "</tbody>\n",
       "</table>\n"
      ],
      "text/latex": [
       "A tibble: 10 × 6\n",
       "\\begin{tabular}{llllll}\n",
       " total\\_day\\_charge & total\\_eve\\_calls & total\\_eve\\_charge & clustering\\_group\\_prediction & PC1 & PC2\\\\\n",
       " <dbl> & <int> & <dbl> & <int> & <dbl> & <dbl>\\\\\n",
       "\\hline\n",
       "\t 27.47 & 103 & 16.62 & 3 & -2.871341 &   3.162784\\\\\n",
       "\t 50.90 &  88 &  5.26 & 3 & 11.834075 & -20.539510\\\\\n",
       "\t 37.98 & 101 & 18.75 & 3 & -1.010412 &  -7.357110\\\\\n",
       "\t 37.09 & 108 & 29.62 & 3 & -8.009268 &  -6.299821\\\\\n",
       "\t 26.69 &  94 &  8.76 & 3 &  6.146017 &   3.770453\\\\\n",
       "\t 21.90 &  71 &  8.92 & 1 & 29.206217 &   8.261985\\\\\n",
       "\t 26.62 &  75 & 21.05 & 1 & 25.132838 &   3.679729\\\\\n",
       "\t 20.52 &  76 & 26.11 & 1 & 24.207152 &   9.827614\\\\\n",
       "\t 26.37 &  93 & 20.37 & 3 &  7.138314 &   4.158979\\\\\n",
       "\t 13.79 &  72 & 20.84 & 1 & 28.299720 &  16.467843\\\\\n",
       "\\end{tabular}\n"
      ],
      "text/markdown": [
       "\n",
       "A tibble: 10 × 6\n",
       "\n",
       "| total_day_charge &lt;dbl&gt; | total_eve_calls &lt;int&gt; | total_eve_charge &lt;dbl&gt; | clustering_group_prediction &lt;int&gt; | PC1 &lt;dbl&gt; | PC2 &lt;dbl&gt; |\n",
       "|---|---|---|---|---|---|\n",
       "| 27.47 | 103 | 16.62 | 3 | -2.871341 |   3.162784 |\n",
       "| 50.90 |  88 |  5.26 | 3 | 11.834075 | -20.539510 |\n",
       "| 37.98 | 101 | 18.75 | 3 | -1.010412 |  -7.357110 |\n",
       "| 37.09 | 108 | 29.62 | 3 | -8.009268 |  -6.299821 |\n",
       "| 26.69 |  94 |  8.76 | 3 |  6.146017 |   3.770453 |\n",
       "| 21.90 |  71 |  8.92 | 1 | 29.206217 |   8.261985 |\n",
       "| 26.62 |  75 | 21.05 | 1 | 25.132838 |   3.679729 |\n",
       "| 20.52 |  76 | 26.11 | 1 | 24.207152 |   9.827614 |\n",
       "| 26.37 |  93 | 20.37 | 3 |  7.138314 |   4.158979 |\n",
       "| 13.79 |  72 | 20.84 | 1 | 28.299720 |  16.467843 |\n",
       "\n"
      ],
      "text/plain": [
       "   total_day_charge total_eve_calls total_eve_charge\n",
       "1  27.47            103             16.62           \n",
       "2  50.90             88              5.26           \n",
       "3  37.98            101             18.75           \n",
       "4  37.09            108             29.62           \n",
       "5  26.69             94              8.76           \n",
       "6  21.90             71              8.92           \n",
       "7  26.62             75             21.05           \n",
       "8  20.52             76             26.11           \n",
       "9  26.37             93             20.37           \n",
       "10 13.79             72             20.84           \n",
       "   clustering_group_prediction PC1       PC2       \n",
       "1  3                           -2.871341   3.162784\n",
       "2  3                           11.834075 -20.539510\n",
       "3  3                           -1.010412  -7.357110\n",
       "4  3                           -8.009268  -6.299821\n",
       "5  3                            6.146017   3.770453\n",
       "6  1                           29.206217   8.261985\n",
       "7  1                           25.132838   3.679729\n",
       "8  1                           24.207152   9.827614\n",
       "9  3                            7.138314   4.158979\n",
       "10 1                           28.299720  16.467843"
      ]
     },
     "metadata": {},
     "output_type": "display_data"
    }
   ],
   "source": [
    "head(Clientes_Nuevos, 10)"
   ]
  },
  {
   "cell_type": "code",
   "execution_count": 24,
   "metadata": {
    "colab": {
     "base_uri": "https://localhost:8080/",
     "height": 437
    },
    "id": "hIZn6N_ZqodP",
    "outputId": "be05aa97-ed78-48bd-e0aa-034a1fdf91f7"
   },
   "outputs": [
    {
     "data": {
      "image/png": "[encoded data removed]",
      "text/plain": [
       "plot without title"
      ]
     },
     "metadata": {
      "image/png": {
       "height": 420,
       "width": 420
      }
     },
     "output_type": "display_data"
    }
   ],
   "source": [
    "ggplot(Clientes_Historicos, aes(PC1, PC2, color = factor(clustering_group))) + geom_point() + \n",
    "  geom_point(data = head(Clientes_Nuevos, 6), size = 6, color = \"black\") + \n",
    "  geom_point(data = head(Clientes_Nuevos, 6), aes( color = factor(clustering_group_prediction)), size = 5)+ \n",
    "  labs(color = \"Cluster\")"
   ]
  }
 ],
 "metadata": {
  "colab": {
   "authorship_tag": "ABX9TyMcn3KLJA2uhZTSBsa/HNu/",
   "collapsed_sections": [],
   "include_colab_link": true,
   "name": "Example Segmentation and dimensionality reduction in R.ipynb",
   "provenance": []
  },
  "kernelspec": {
   "display_name": "R",
   "language": "R",
   "name": "ir"
  },
  "language_info": {
   "codemirror_mode": "r",
   "file_extension": ".r",
   "mimetype": "text/x-r-source",
   "name": "R",
   "pygments_lexer": "r",
   "version": "4.0.5"
  }
 },
 "nbformat": 4,
 "nbformat_minor": 4
}
