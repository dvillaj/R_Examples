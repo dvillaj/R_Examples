{
 "cells": [
  {
   "cell_type": "markdown",
   "metadata": {
    "colab_type": "text",
    "id": "view-in-github"
   },
   "source": [
    "<a href=\"https://colab.research.google.com/github/dvillaj/R_Examples/blob/main/Example_Classification_R.ipynb\" target=\"_parent\"><img src=\"https://colab.research.google.com/assets/colab-badge.svg\" alt=\"Open In Colab\"/></a>"
   ]
  },
  {
   "cell_type": "code",
   "execution_count": 1,
   "metadata": {
    "colab": {
     "base_uri": "https://localhost:8080/"
    },
    "id": "McMdMHfrZj64",
    "outputId": "13d5a79b-73fc-47de-f14b-3f36fa6f0b59"
   },
   "outputs": [
    {
     "name": "stderr",
     "output_type": "stream",
     "text": [
      "-- \u001b[1mAttaching packages\u001b[22m ------------------------------------------------------------------------------- tidyverse 1.3.0 --\n",
      "\n",
      "\u001b[32mv\u001b[39m \u001b[34mggplot2\u001b[39m 3.3.3     \u001b[32mv\u001b[39m \u001b[34mpurrr  \u001b[39m 0.3.4\n",
      "\u001b[32mv\u001b[39m \u001b[34mtibble \u001b[39m 3.1.0     \u001b[32mv\u001b[39m \u001b[34mdplyr  \u001b[39m 1.0.5\n",
      "\u001b[32mv\u001b[39m \u001b[34mtidyr  \u001b[39m 1.1.3     \u001b[32mv\u001b[39m \u001b[34mstringr\u001b[39m 1.4.0\n",
      "\u001b[32mv\u001b[39m \u001b[34mreadr  \u001b[39m 1.4.0     \u001b[32mv\u001b[39m \u001b[34mforcats\u001b[39m 0.5.1\n",
      "\n",
      "-- \u001b[1mConflicts\u001b[22m ---------------------------------------------------------------------------------- tidyverse_conflicts() --\n",
      "\u001b[31mx\u001b[39m \u001b[34mdplyr\u001b[39m::\u001b[32mfilter()\u001b[39m masks \u001b[34mstats\u001b[39m::filter()\n",
      "\u001b[31mx\u001b[39m \u001b[34mdplyr\u001b[39m::\u001b[32mlag()\u001b[39m    masks \u001b[34mstats\u001b[39m::lag()\n",
      "\n"
     ]
    }
   ],
   "source": [
    "library(tidyverse)"
   ]
  },
  {
   "cell_type": "code",
   "execution_count": 2,
   "metadata": {
    "colab": {
     "base_uri": "https://localhost:8080/"
    },
    "id": "kOrgjLn9Zpe0",
    "outputId": "dd6060bd-822b-4363-d25a-543f49a92f32"
   },
   "outputs": [
    {
     "name": "stderr",
     "output_type": "stream",
     "text": [
      "also installing the dependency 'Cubist'\n",
      "\n",
      "\n"
     ]
    },
    {
     "name": "stdout",
     "output_type": "stream",
     "text": [
      "package 'Cubist' successfully unpacked and MD5 sums checked\n",
      "package 'C50' successfully unpacked and MD5 sums checked\n",
      "\n",
      "The downloaded binary packages are in\n",
      "\tC:\\Users\\Daniel\\AppData\\Local\\Temp\\RtmpcBFZ8P\\downloaded_packages\n"
     ]
    }
   ],
   "source": [
    "install.packages(\"C50\")"
   ]
  },
  {
   "cell_type": "code",
   "execution_count": 3,
   "metadata": {
    "id": "V6F4yhgqbL2u"
   },
   "outputs": [],
   "source": [
    "library(C50)"
   ]
  },
  {
   "cell_type": "code",
   "execution_count": 4,
   "metadata": {
    "id": "VXiWME1VZwYw"
   },
   "outputs": [],
   "source": [
    "library(rpart)"
   ]
  },
  {
   "cell_type": "code",
   "execution_count": 5,
   "metadata": {
    "colab": {
     "base_uri": "https://localhost:8080/"
    },
    "id": "fcdpjTZJa49G",
    "outputId": "da747684-09b0-48f1-d878-87cec623a47c"
   },
   "outputs": [
    {
     "name": "stdout",
     "output_type": "stream",
     "text": [
      "package 'rpart.plot' successfully unpacked and MD5 sums checked\n",
      "\n",
      "The downloaded binary packages are in\n",
      "\tC:\\Users\\Daniel\\AppData\\Local\\Temp\\RtmpcBFZ8P\\downloaded_packages\n"
     ]
    }
   ],
   "source": [
    "install.packages(\"rpart.plot\")"
   ]
  },
  {
   "cell_type": "code",
   "execution_count": 6,
   "metadata": {
    "id": "R3OZcXMObHPN"
   },
   "outputs": [],
   "source": [
    "library(rpart.plot)"
   ]
  },
  {
   "cell_type": "code",
   "execution_count": 7,
   "metadata": {
    "colab": {
     "base_uri": "https://localhost:8080/"
    },
    "id": "ViyTWFijbWjl",
    "outputId": "4e9dc090-5afe-4106-ef65-0c706d09ba4f"
   },
   "outputs": [
    {
     "name": "stdout",
     "output_type": "stream",
     "text": [
      "package 'modeldata' successfully unpacked and MD5 sums checked\n",
      "\n",
      "The downloaded binary packages are in\n",
      "\tC:\\Users\\Daniel\\AppData\\Local\\Temp\\RtmpcBFZ8P\\downloaded_packages\n"
     ]
    }
   ],
   "source": [
    "install.packages(\"modeldata\")"
   ]
  },
  {
   "cell_type": "code",
   "execution_count": 8,
   "metadata": {
    "id": "knThXUDhbfSd"
   },
   "outputs": [],
   "source": [
    "library(modeldata)\n",
    "data(mlc_churn)"
   ]
  },
  {
   "cell_type": "code",
   "execution_count": 9,
   "metadata": {
    "colab": {
     "base_uri": "https://localhost:8080/"
    },
    "id": "rNZnnr2mbyVG",
    "outputId": "c3cafb0a-712e-4032-b71e-072d4b482cc6"
   },
   "outputs": [
    {
     "name": "stdout",
     "output_type": "stream",
     "text": [
      "Rows: 5,000\n",
      "Columns: 20\n",
      "$ state                         \u001b[3m\u001b[90m<fct>\u001b[39m\u001b[23m KS, OH, NJ, OH, OK, AL, MA, MO, LA, WV, ~\n",
      "$ account_length                \u001b[3m\u001b[90m<int>\u001b[39m\u001b[23m 128, 107, 137, 84, 75, 118, 121, 147, 11~\n",
      "$ area_code                     \u001b[3m\u001b[90m<fct>\u001b[39m\u001b[23m area_code_415, area_code_415, area_code_~\n",
      "$ international_plan            \u001b[3m\u001b[90m<fct>\u001b[39m\u001b[23m no, no, no, yes, yes, yes, no, yes, no, ~\n",
      "$ voice_mail_plan               \u001b[3m\u001b[90m<fct>\u001b[39m\u001b[23m yes, yes, no, no, no, no, yes, no, no, y~\n",
      "$ number_vmail_messages         \u001b[3m\u001b[90m<int>\u001b[39m\u001b[23m 25, 26, 0, 0, 0, 0, 24, 0, 0, 37, 0, 0, ~\n",
      "$ total_day_minutes             \u001b[3m\u001b[90m<dbl>\u001b[39m\u001b[23m 265.1, 161.6, 243.4, 299.4, 166.7, 223.4~\n",
      "$ total_day_calls               \u001b[3m\u001b[90m<int>\u001b[39m\u001b[23m 110, 123, 114, 71, 113, 98, 88, 79, 97, ~\n",
      "$ total_day_charge              \u001b[3m\u001b[90m<dbl>\u001b[39m\u001b[23m 45.07, 27.47, 41.38, 50.90, 28.34, 37.98~\n",
      "$ total_eve_minutes             \u001b[3m\u001b[90m<dbl>\u001b[39m\u001b[23m 197.4, 195.5, 121.2, 61.9, 148.3, 220.6,~\n",
      "$ total_eve_calls               \u001b[3m\u001b[90m<int>\u001b[39m\u001b[23m 99, 103, 110, 88, 122, 101, 108, 94, 80,~\n",
      "$ total_eve_charge              \u001b[3m\u001b[90m<dbl>\u001b[39m\u001b[23m 16.78, 16.62, 10.30, 5.26, 12.61, 18.75,~\n",
      "$ total_night_minutes           \u001b[3m\u001b[90m<dbl>\u001b[39m\u001b[23m 244.7, 254.4, 162.6, 196.9, 186.9, 203.9~\n",
      "$ total_night_calls             \u001b[3m\u001b[90m<int>\u001b[39m\u001b[23m 91, 103, 104, 89, 121, 118, 118, 96, 90,~\n",
      "$ total_night_charge            \u001b[3m\u001b[90m<dbl>\u001b[39m\u001b[23m 11.01, 11.45, 7.32, 8.86, 8.41, 9.18, 9.~\n",
      "$ total_intl_minutes            \u001b[3m\u001b[90m<dbl>\u001b[39m\u001b[23m 10.0, 13.7, 12.2, 6.6, 10.1, 6.3, 7.5, 7~\n",
      "$ total_intl_calls              \u001b[3m\u001b[90m<int>\u001b[39m\u001b[23m 3, 3, 5, 7, 3, 6, 7, 6, 4, 5, 6, 5, 2, 5~\n",
      "$ total_intl_charge             \u001b[3m\u001b[90m<dbl>\u001b[39m\u001b[23m 2.70, 3.70, 3.29, 1.78, 2.73, 1.70, 2.03~\n",
      "$ number_customer_service_calls \u001b[3m\u001b[90m<int>\u001b[39m\u001b[23m 1, 1, 0, 2, 3, 0, 3, 0, 1, 0, 4, 0, 1, 3~\n",
      "$ churn                         \u001b[3m\u001b[90m<fct>\u001b[39m\u001b[23m no, no, no, no, no, no, no, no, no, no, ~\n"
     ]
    }
   ],
   "source": [
    "glimpse(mlc_churn)"
   ]
  },
  {
   "cell_type": "code",
   "execution_count": 10,
   "metadata": {
    "id": "C64zoLFhcs4A"
   },
   "outputs": [],
   "source": [
    "mlc_churn <- mlc_churn %>% mutate(id = row_number())"
   ]
  },
  {
   "cell_type": "code",
   "execution_count": 11,
   "metadata": {
    "id": "7GrFdmvIdpyy"
   },
   "outputs": [],
   "source": [
    "churnTrain <- mlc_churn %>% \n",
    "          sample_frac(.70)"
   ]
  },
  {
   "cell_type": "code",
   "execution_count": 12,
   "metadata": {
    "id": "G8jtJbRhdtaX"
   },
   "outputs": [],
   "source": [
    "churnTest  <- anti_join(mlc_churn, churnTrain, by = 'id')"
   ]
  },
  {
   "cell_type": "code",
   "execution_count": 13,
   "metadata": {
    "colab": {
     "base_uri": "https://localhost:8080/",
     "height": 207
    },
    "id": "IwYg856heK06",
    "outputId": "f0c784a8-3975-4d5a-92fb-e7a6ef601a3b"
   },
   "outputs": [
    {
     "data": {
      "text/html": [
       "<table class=\"dataframe\">\n",
       "<caption>A tibble: 6 × 6</caption>\n",
       "<thead>\n",
       "\t<tr><th scope=col>churn</th><th scope=col>international_plan</th><th scope=col>total_day_minutes</th><th scope=col>total_intl_minutes</th><th scope=col>total_intl_calls</th><th scope=col>number_customer_service_calls</th></tr>\n",
       "\t<tr><th scope=col>&lt;fct&gt;</th><th scope=col>&lt;fct&gt;</th><th scope=col>&lt;dbl&gt;</th><th scope=col>&lt;dbl&gt;</th><th scope=col>&lt;int&gt;</th><th scope=col>&lt;int&gt;</th></tr>\n",
       "</thead>\n",
       "<tbody>\n",
       "\t<tr><td>no </td><td>no</td><td>232.5</td><td>10.4</td><td>6</td><td>4</td></tr>\n",
       "\t<tr><td>no </td><td>no</td><td> 77.6</td><td>14.9</td><td>4</td><td>1</td></tr>\n",
       "\t<tr><td>no </td><td>no</td><td>195.0</td><td>14.8</td><td>9</td><td>0</td></tr>\n",
       "\t<tr><td>no </td><td>no</td><td>159.5</td><td> 7.2</td><td>4</td><td>2</td></tr>\n",
       "\t<tr><td>yes</td><td>no</td><td>253.6</td><td>10.2</td><td>3</td><td>3</td></tr>\n",
       "\t<tr><td>no </td><td>no</td><td>130.8</td><td>10.0</td><td>5</td><td>1</td></tr>\n",
       "</tbody>\n",
       "</table>\n"
      ],
      "text/latex": [
       "A tibble: 6 × 6\n",
       "\\begin{tabular}{llllll}\n",
       " churn & international\\_plan & total\\_day\\_minutes & total\\_intl\\_minutes & total\\_intl\\_calls & number\\_customer\\_service\\_calls\\\\\n",
       " <fct> & <fct> & <dbl> & <dbl> & <int> & <int>\\\\\n",
       "\\hline\n",
       "\t no  & no & 232.5 & 10.4 & 6 & 4\\\\\n",
       "\t no  & no &  77.6 & 14.9 & 4 & 1\\\\\n",
       "\t no  & no & 195.0 & 14.8 & 9 & 0\\\\\n",
       "\t no  & no & 159.5 &  7.2 & 4 & 2\\\\\n",
       "\t yes & no & 253.6 & 10.2 & 3 & 3\\\\\n",
       "\t no  & no & 130.8 & 10.0 & 5 & 1\\\\\n",
       "\\end{tabular}\n"
      ],
      "text/markdown": [
       "\n",
       "A tibble: 6 × 6\n",
       "\n",
       "| churn &lt;fct&gt; | international_plan &lt;fct&gt; | total_day_minutes &lt;dbl&gt; | total_intl_minutes &lt;dbl&gt; | total_intl_calls &lt;int&gt; | number_customer_service_calls &lt;int&gt; |\n",
       "|---|---|---|---|---|---|\n",
       "| no  | no | 232.5 | 10.4 | 6 | 4 |\n",
       "| no  | no |  77.6 | 14.9 | 4 | 1 |\n",
       "| no  | no | 195.0 | 14.8 | 9 | 0 |\n",
       "| no  | no | 159.5 |  7.2 | 4 | 2 |\n",
       "| yes | no | 253.6 | 10.2 | 3 | 3 |\n",
       "| no  | no | 130.8 | 10.0 | 5 | 1 |\n",
       "\n"
      ],
      "text/plain": [
       "  churn international_plan total_day_minutes total_intl_minutes\n",
       "1 no    no                 232.5             10.4              \n",
       "2 no    no                  77.6             14.9              \n",
       "3 no    no                 195.0             14.8              \n",
       "4 no    no                 159.5              7.2              \n",
       "5 yes   no                 253.6             10.2              \n",
       "6 no    no                 130.8             10.0              \n",
       "  total_intl_calls number_customer_service_calls\n",
       "1 6                4                            \n",
       "2 4                1                            \n",
       "3 9                0                            \n",
       "4 4                2                            \n",
       "5 3                3                            \n",
       "6 5                1                            "
      ]
     },
     "metadata": {},
     "output_type": "display_data"
    }
   ],
   "source": [
    "select(churnTrain, churn, international_plan, \n",
    "                   total_day_minutes, \n",
    "                   total_intl_minutes, \n",
    "                   total_intl_calls, \n",
    "                   number_customer_service_calls) %>% \n",
    "    head()"
   ]
  },
  {
   "cell_type": "code",
   "execution_count": 14,
   "metadata": {
    "id": "rvslalVgetm3"
   },
   "outputs": [],
   "source": [
    "model <- rpart(churn ~ international_plan +\n",
    "                   total_day_minutes +\n",
    "                   total_intl_minutes + \n",
    "                   total_intl_calls +\n",
    "                   number_customer_service_calls,\n",
    "              data = churnTrain,\n",
    "              parms = list(split = \"information\")\n",
    ")"
   ]
  },
  {
   "cell_type": "code",
   "execution_count": 15,
   "metadata": {
    "id": "l-4xO00afWEA"
   },
   "outputs": [],
   "source": [
    "prediction <- predict( model, churnTest, type = \"class\")"
   ]
  },
  {
   "cell_type": "code",
   "execution_count": 16,
   "metadata": {
    "colab": {
     "base_uri": "https://localhost:8080/",
     "height": 207
    },
    "id": "jll-QqqMfmh2",
    "outputId": "8dbcd40e-3cc6-43f9-933a-8e46ab77aaf7"
   },
   "outputs": [
    {
     "data": {
      "text/html": [
       "<table class=\"dataframe\">\n",
       "<caption>A tibble: 6 × 7</caption>\n",
       "<thead>\n",
       "\t<tr><th scope=col>churn</th><th scope=col>churn_predicted</th><th scope=col>international_plan</th><th scope=col>total_day_minutes</th><th scope=col>total_intl_minutes</th><th scope=col>total_intl_calls</th><th scope=col>number_customer_service_calls</th></tr>\n",
       "\t<tr><th scope=col>&lt;fct&gt;</th><th scope=col>&lt;fct&gt;</th><th scope=col>&lt;fct&gt;</th><th scope=col>&lt;dbl&gt;</th><th scope=col>&lt;dbl&gt;</th><th scope=col>&lt;int&gt;</th><th scope=col>&lt;int&gt;</th></tr>\n",
       "</thead>\n",
       "<tbody>\n",
       "\t<tr><td>no</td><td>no</td><td>no</td><td>218.2</td><td> 7.5</td><td>7</td><td>3</td></tr>\n",
       "\t<tr><td>no</td><td>no</td><td>no</td><td>184.5</td><td> 8.7</td><td>4</td><td>1</td></tr>\n",
       "\t<tr><td>no</td><td>no</td><td>no</td><td>196.4</td><td>13.8</td><td>4</td><td>1</td></tr>\n",
       "\t<tr><td>no</td><td>no</td><td>no</td><td>189.7</td><td>10.0</td><td>5</td><td>1</td></tr>\n",
       "\t<tr><td>no</td><td>no</td><td>no</td><td>155.1</td><td>10.6</td><td>4</td><td>0</td></tr>\n",
       "\t<tr><td>no</td><td>no</td><td>no</td><td> 81.1</td><td>10.3</td><td>2</td><td>0</td></tr>\n",
       "</tbody>\n",
       "</table>\n"
      ],
      "text/latex": [
       "A tibble: 6 × 7\n",
       "\\begin{tabular}{lllllll}\n",
       " churn & churn\\_predicted & international\\_plan & total\\_day\\_minutes & total\\_intl\\_minutes & total\\_intl\\_calls & number\\_customer\\_service\\_calls\\\\\n",
       " <fct> & <fct> & <fct> & <dbl> & <dbl> & <int> & <int>\\\\\n",
       "\\hline\n",
       "\t no & no & no & 218.2 &  7.5 & 7 & 3\\\\\n",
       "\t no & no & no & 184.5 &  8.7 & 4 & 1\\\\\n",
       "\t no & no & no & 196.4 & 13.8 & 4 & 1\\\\\n",
       "\t no & no & no & 189.7 & 10.0 & 5 & 1\\\\\n",
       "\t no & no & no & 155.1 & 10.6 & 4 & 0\\\\\n",
       "\t no & no & no &  81.1 & 10.3 & 2 & 0\\\\\n",
       "\\end{tabular}\n"
      ],
      "text/markdown": [
       "\n",
       "A tibble: 6 × 7\n",
       "\n",
       "| churn &lt;fct&gt; | churn_predicted &lt;fct&gt; | international_plan &lt;fct&gt; | total_day_minutes &lt;dbl&gt; | total_intl_minutes &lt;dbl&gt; | total_intl_calls &lt;int&gt; | number_customer_service_calls &lt;int&gt; |\n",
       "|---|---|---|---|---|---|---|\n",
       "| no | no | no | 218.2 |  7.5 | 7 | 3 |\n",
       "| no | no | no | 184.5 |  8.7 | 4 | 1 |\n",
       "| no | no | no | 196.4 | 13.8 | 4 | 1 |\n",
       "| no | no | no | 189.7 | 10.0 | 5 | 1 |\n",
       "| no | no | no | 155.1 | 10.6 | 4 | 0 |\n",
       "| no | no | no |  81.1 | 10.3 | 2 | 0 |\n",
       "\n"
      ],
      "text/plain": [
       "  churn churn_predicted international_plan total_day_minutes total_intl_minutes\n",
       "1 no    no              no                 218.2              7.5              \n",
       "2 no    no              no                 184.5              8.7              \n",
       "3 no    no              no                 196.4             13.8              \n",
       "4 no    no              no                 189.7             10.0              \n",
       "5 no    no              no                 155.1             10.6              \n",
       "6 no    no              no                  81.1             10.3              \n",
       "  total_intl_calls number_customer_service_calls\n",
       "1 7                3                            \n",
       "2 4                1                            \n",
       "3 4                1                            \n",
       "4 5                1                            \n",
       "5 4                0                            \n",
       "6 2                0                            "
      ]
     },
     "metadata": {},
     "output_type": "display_data"
    }
   ],
   "source": [
    "churnTest %>% \n",
    "    mutate ( churn_predicted = prediction ) %>%\n",
    "    select ( churn, churn_predicted,\n",
    "                   international_plan, \n",
    "                   total_day_minutes, \n",
    "                   total_intl_minutes, \n",
    "                   total_intl_calls, \n",
    "                   number_customer_service_calls) %>%\n",
    "    head()"
   ]
  },
  {
   "cell_type": "code",
   "execution_count": 17,
   "metadata": {
    "colab": {
     "base_uri": "https://localhost:8080/",
     "height": 737
    },
    "id": "85XrAIVMf9LS",
    "outputId": "0cfa0f22-602e-4789-d296-0aab8fb80819"
   },
   "outputs": [
    {
     "data": {
      "image/png": "[encoded data removed]",
      "text/plain": [
       "plot without title"
      ]
     },
     "metadata": {
      "image/png": {
       "height": 720,
       "width": 900
      }
     },
     "output_type": "display_data"
    }
   ],
   "source": [
    "options(repr.plot.width=15, repr.plot.height=12)\n",
    "\n",
    "rpart.plot(model)"
   ]
  },
  {
   "cell_type": "code",
   "execution_count": 18,
   "metadata": {
    "colab": {
     "base_uri": "https://localhost:8080/",
     "height": 217
    },
    "id": "029yxmTbgN7z",
    "outputId": "30c9440e-e5c0-457c-ae35-bf264bffb789"
   },
   "outputs": [
    {
     "name": "stderr",
     "output_type": "stream",
     "text": [
      "New names:\n",
      "* `` -> ...1\n",
      "\n"
     ]
    },
    {
     "data": {
      "text/html": [
       "<table class=\"dataframe\">\n",
       "<caption>A tibble: 4 × 4</caption>\n",
       "<thead>\n",
       "\t<tr><th scope=col>original_value</th><th scope=col>prediction</th><th scope=col>n</th><th scope=col>%</th></tr>\n",
       "\t<tr><th scope=col>&lt;chr&gt;</th><th scope=col>&lt;chr&gt;</th><th scope=col>&lt;int&gt;</th><th scope=col>&lt;chr&gt;</th></tr>\n",
       "</thead>\n",
       "<tbody>\n",
       "\t<tr><td>no </td><td>no </td><td>1270</td><td>84.67</td></tr>\n",
       "\t<tr><td>no </td><td>yes</td><td>  12</td><td>0.80 </td></tr>\n",
       "\t<tr><td>yes</td><td>no </td><td> 107</td><td>7.13 </td></tr>\n",
       "\t<tr><td>yes</td><td>yes</td><td> 111</td><td>7.40 </td></tr>\n",
       "</tbody>\n",
       "</table>\n"
      ],
      "text/latex": [
       "A tibble: 4 × 4\n",
       "\\begin{tabular}{llll}\n",
       " original\\_value & prediction & n & \\%\\\\\n",
       " <chr> & <chr> & <int> & <chr>\\\\\n",
       "\\hline\n",
       "\t no  & no  & 1270 & 84.67\\\\\n",
       "\t no  & yes &   12 & 0.80 \\\\\n",
       "\t yes & no  &  107 & 7.13 \\\\\n",
       "\t yes & yes &  111 & 7.40 \\\\\n",
       "\\end{tabular}\n"
      ],
      "text/markdown": [
       "\n",
       "A tibble: 4 × 4\n",
       "\n",
       "| original_value &lt;chr&gt; | prediction &lt;chr&gt; | n &lt;int&gt; | % &lt;chr&gt; |\n",
       "|---|---|---|---|\n",
       "| no  | no  | 1270 | 84.67 |\n",
       "| no  | yes |   12 | 0.80  |\n",
       "| yes | no  |  107 | 7.13  |\n",
       "| yes | yes |  111 | 7.40  |\n",
       "\n"
      ],
      "text/plain": [
       "  original_value prediction n    %    \n",
       "1 no             no         1270 84.67\n",
       "2 no             yes          12 0.80 \n",
       "3 yes            no          107 7.13 \n",
       "4 yes            yes         111 7.40 "
      ]
     },
     "metadata": {},
     "output_type": "display_data"
    }
   ],
   "source": [
    "table(churnTest$churn, prediction)  %>% \n",
    "    as_tibble(.name_repair = \"unique\") %>%\n",
    "    rename(original_value = `...1`) %>%\n",
    "    mutate(`%` = sprintf(\"%03.2f\", n / nrow(churnTest) * 100)) %>%\n",
    "    arrange(original_value, prediction)"
   ]
  }
 ],
 "metadata": {
  "colab": {
   "authorship_tag": "ABX9TyPPURlZhy3D5whXx2qQXXWX",
   "collapsed_sections": [],
   "include_colab_link": true,
   "name": "Example Classification R.ipynb",
   "provenance": []
  },
  "kernelspec": {
   "display_name": "R",
   "language": "R",
   "name": "ir"
  },
  "language_info": {
   "codemirror_mode": "r",
   "file_extension": ".r",
   "mimetype": "text/x-r-source",
   "name": "R",
   "pygments_lexer": "r",
   "version": "4.0.5"
  }
 },
 "nbformat": 4,
 "nbformat_minor": 4
}
