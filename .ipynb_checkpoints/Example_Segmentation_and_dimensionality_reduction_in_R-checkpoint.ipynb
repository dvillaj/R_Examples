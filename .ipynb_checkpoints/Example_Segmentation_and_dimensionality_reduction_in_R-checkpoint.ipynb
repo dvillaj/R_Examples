{
 "cells": [
  {
   "cell_type": "markdown",
   "metadata": {
    "colab_type": "text",
    "id": "view-in-github"
   },
   "source": [
    "<a href=\"https://colab.research.google.com/github/dvillaj/R_Examples/blob/main/Example_Segmentation_and_dimensionality_reduction_in_R.ipynb\" target=\"_parent\"><img src=\"https://colab.research.google.com/assets/colab-badge.svg\" alt=\"Open In Colab\"/></a>"
   ]
  },
  {
   "cell_type": "code",
   "execution_count": 1,
   "metadata": {
    "colab": {
     "base_uri": "https://localhost:8080/"
    },
    "id": "McMdMHfrZj64",
    "outputId": "7deeac20-cb29-4d15-85f2-8dc9ed795825"
   },
   "outputs": [
    {
     "name": "stderr",
     "output_type": "stream",
     "text": [
      "-- \u001b[1mAttaching packages\u001b[22m ---------------------------------------------------------------------------------------------------------------------------------------------------------------------------------------------------- tidyverse 1.3.0 --\n",
      "\n",
      "\u001b[32mv\u001b[39m \u001b[34mggplot2\u001b[39m 3.3.3     \u001b[32mv\u001b[39m \u001b[34mpurrr  \u001b[39m 0.3.4\n",
      "\u001b[32mv\u001b[39m \u001b[34mtibble \u001b[39m 3.1.0     \u001b[32mv\u001b[39m \u001b[34mdplyr  \u001b[39m 1.0.5\n",
      "\u001b[32mv\u001b[39m \u001b[34mtidyr  \u001b[39m 1.1.3     \u001b[32mv\u001b[39m \u001b[34mstringr\u001b[39m 1.4.0\n",
      "\u001b[32mv\u001b[39m \u001b[34mreadr  \u001b[39m 1.4.0     \u001b[32mv\u001b[39m \u001b[34mforcats\u001b[39m 0.5.1\n",
      "\n",
      "-- \u001b[1mConflicts\u001b[22m ------------------------------------------------------------------------------------------------------------------------------------------------------------------------------------------------------- tidyverse_conflicts() --\n",
      "\u001b[31mx\u001b[39m \u001b[34mdplyr\u001b[39m::\u001b[32mfilter()\u001b[39m masks \u001b[34mstats\u001b[39m::filter()\n",
      "\u001b[31mx\u001b[39m \u001b[34mdplyr\u001b[39m::\u001b[32mlag()\u001b[39m    masks \u001b[34mstats\u001b[39m::lag()\n",
      "\n"
     ]
    }
   ],
   "source": [
    "library(tidyverse)"
   ]
  },
  {
   "cell_type": "code",
   "execution_count": 2,
   "metadata": {
    "colab": {
     "base_uri": "https://localhost:8080/"
    },
    "id": "kOrgjLn9Zpe0",
    "outputId": "f9a01f51-b9f4-4666-ab16-afc06b4ec43d"
   },
   "outputs": [
    {
     "name": "stdout",
     "output_type": "stream",
     "text": [
      "package 'C50' successfully unpacked and MD5 sums checked\n",
      "\n",
      "The downloaded binary packages are in\n",
      "\tC:\\Users\\Daniel\\AppData\\Local\\Temp\\Rtmpwh82IP\\downloaded_packages\n"
     ]
    }
   ],
   "source": [
    "install.packages(\"C50\")\n",
    "library(C50)"
   ]
  },
  {
   "cell_type": "code",
   "execution_count": 3,
   "metadata": {
    "colab": {
     "base_uri": "https://localhost:8080/"
    },
    "id": "V6F4yhgqbL2u",
    "outputId": "b085c7ec-7460-4f77-920b-b561c5e25264"
   },
   "outputs": [
    {
     "name": "stdout",
     "output_type": "stream",
     "text": [
      "package 'flexclust' successfully unpacked and MD5 sums checked\n",
      "\n",
      "The downloaded binary packages are in\n",
      "\tC:\\Users\\Daniel\\AppData\\Local\\Temp\\Rtmpwh82IP\\downloaded_packages\n"
     ]
    },
    {
     "name": "stderr",
     "output_type": "stream",
     "text": [
      "Loading required package: grid\n",
      "\n",
      "Loading required package: lattice\n",
      "\n",
      "Loading required package: modeltools\n",
      "\n",
      "Loading required package: stats4\n",
      "\n"
     ]
    }
   ],
   "source": [
    "install.packages(\"flexclust\")\n",
    "library(flexclust)"
   ]
  },
  {
   "cell_type": "code",
   "execution_count": 4,
   "metadata": {
    "colab": {
     "base_uri": "https://localhost:8080/"
    },
    "id": "ViyTWFijbWjl",
    "outputId": "dd1473b6-200d-445f-e51c-aa28369bdd39"
   },
   "outputs": [
    {
     "name": "stdout",
     "output_type": "stream",
     "text": [
      "package 'modeldata' successfully unpacked and MD5 sums checked\n",
      "\n",
      "The downloaded binary packages are in\n",
      "\tC:\\Users\\Daniel\\AppData\\Local\\Temp\\Rtmpwh82IP\\downloaded_packages\n"
     ]
    }
   ],
   "source": [
    "install.packages(\"modeldata\")\n",
    "library(modeldata)"
   ]
  },
  {
   "cell_type": "code",
   "execution_count": 5,
   "metadata": {
    "id": "knThXUDhbfSd"
   },
   "outputs": [],
   "source": [
    "data(mlc_churn)"
   ]
  },
  {
   "cell_type": "code",
   "execution_count": 6,
   "metadata": {
    "colab": {
     "base_uri": "https://localhost:8080/"
    },
    "id": "rNZnnr2mbyVG",
    "outputId": "75c0c425-0fa7-4d8a-dbc3-c0480c60e185"
   },
   "outputs": [
    {
     "name": "stdout",
     "output_type": "stream",
     "text": [
      "Rows: 5,000\n",
      "Columns: 20\n",
      "$ state                         \u001b[3m\u001b[90m<fct>\u001b[39m\u001b[23m KS, OH, NJ, OH, OK, AL, MA, MO, LA, WV, ~\n",
      "$ account_length                \u001b[3m\u001b[90m<int>\u001b[39m\u001b[23m 128, 107, 137, 84, 75, 118, 121, 147, 11~\n",
      "$ area_code                     \u001b[3m\u001b[90m<fct>\u001b[39m\u001b[23m area_code_415, area_code_415, area_code_~\n",
      "$ international_plan            \u001b[3m\u001b[90m<fct>\u001b[39m\u001b[23m no, no, no, yes, yes, yes, no, yes, no, ~\n",
      "$ voice_mail_plan               \u001b[3m\u001b[90m<fct>\u001b[39m\u001b[23m yes, yes, no, no, no, no, yes, no, no, y~\n",
      "$ number_vmail_messages         \u001b[3m\u001b[90m<int>\u001b[39m\u001b[23m 25, 26, 0, 0, 0, 0, 24, 0, 0, 37, 0, 0, ~\n",
      "$ total_day_minutes             \u001b[3m\u001b[90m<dbl>\u001b[39m\u001b[23m 265.1, 161.6, 243.4, 299.4, 166.7, 223.4~\n",
      "$ total_day_calls               \u001b[3m\u001b[90m<int>\u001b[39m\u001b[23m 110, 123, 114, 71, 113, 98, 88, 79, 97, ~\n",
      "$ total_day_charge              \u001b[3m\u001b[90m<dbl>\u001b[39m\u001b[23m 45.07, 27.47, 41.38, 50.90, 28.34, 37.98~\n",
      "$ total_eve_minutes             \u001b[3m\u001b[90m<dbl>\u001b[39m\u001b[23m 197.4, 195.5, 121.2, 61.9, 148.3, 220.6,~\n",
      "$ total_eve_calls               \u001b[3m\u001b[90m<int>\u001b[39m\u001b[23m 99, 103, 110, 88, 122, 101, 108, 94, 80,~\n",
      "$ total_eve_charge              \u001b[3m\u001b[90m<dbl>\u001b[39m\u001b[23m 16.78, 16.62, 10.30, 5.26, 12.61, 18.75,~\n",
      "$ total_night_minutes           \u001b[3m\u001b[90m<dbl>\u001b[39m\u001b[23m 244.7, 254.4, 162.6, 196.9, 186.9, 203.9~\n",
      "$ total_night_calls             \u001b[3m\u001b[90m<int>\u001b[39m\u001b[23m 91, 103, 104, 89, 121, 118, 118, 96, 90,~\n",
      "$ total_night_charge            \u001b[3m\u001b[90m<dbl>\u001b[39m\u001b[23m 11.01, 11.45, 7.32, 8.86, 8.41, 9.18, 9.~\n",
      "$ total_intl_minutes            \u001b[3m\u001b[90m<dbl>\u001b[39m\u001b[23m 10.0, 13.7, 12.2, 6.6, 10.1, 6.3, 7.5, 7~\n",
      "$ total_intl_calls              \u001b[3m\u001b[90m<int>\u001b[39m\u001b[23m 3, 3, 5, 7, 3, 6, 7, 6, 4, 5, 6, 5, 2, 5~\n",
      "$ total_intl_charge             \u001b[3m\u001b[90m<dbl>\u001b[39m\u001b[23m 2.70, 3.70, 3.29, 1.78, 2.73, 1.70, 2.03~\n",
      "$ number_customer_service_calls \u001b[3m\u001b[90m<int>\u001b[39m\u001b[23m 1, 1, 0, 2, 3, 0, 3, 0, 1, 0, 4, 0, 1, 3~\n",
      "$ churn                         \u001b[3m\u001b[90m<fct>\u001b[39m\u001b[23m no, no, no, no, no, no, no, no, no, no, ~\n"
     ]
    }
   ],
   "source": [
    "glimpse(mlc_churn)"
   ]
  },
  {
   "cell_type": "code",
   "execution_count": 7,
   "metadata": {
    "id": "C64zoLFhcs4A"
   },
   "outputs": [],
   "source": [
    "mlc_churn <- mlc_churn %>% mutate(id = row_number())\n",
    "churnTrain <- mlc_churn %>% \n",
    "          sample_frac(.70)\n",
    "churnTest  <- anti_join(mlc_churn, churnTrain, by = 'id')"
   ]
  },
  {
   "cell_type": "code",
   "execution_count": 8,
   "metadata": {
    "id": "7GrFdmvIdpyy"
   },
   "outputs": [],
   "source": [
    "set.seed(6)\n",
    "Clientes_Historicos = select(churnTrain, total_day_charge, total_eve_calls, total_eve_charge)"
   ]
  },
  {
   "cell_type": "code",
   "execution_count": 9,
   "metadata": {
    "colab": {
     "base_uri": "https://localhost:8080/",
     "height": 293
    },
    "id": "G8jtJbRhdtaX",
    "outputId": "f447d178-e7a4-4b1c-90ea-7fac2bac87ea"
   },
   "outputs": [
    {
     "data": {
      "text/html": [
       "<table class=\"dataframe\">\n",
       "<caption>A tibble: 10 × 3</caption>\n",
       "<thead>\n",
       "\t<tr><th scope=col>total_day_charge</th><th scope=col>total_eve_calls</th><th scope=col>total_eve_charge</th></tr>\n",
       "\t<tr><th scope=col>&lt;dbl&gt;</th><th scope=col>&lt;int&gt;</th><th scope=col>&lt;dbl&gt;</th></tr>\n",
       "</thead>\n",
       "<tbody>\n",
       "\t<tr><td>11.63</td><td>110</td><td>16.43</td></tr>\n",
       "\t<tr><td>21.90</td><td> 52</td><td>13.37</td></tr>\n",
       "\t<tr><td>32.37</td><td>107</td><td> 7.82</td></tr>\n",
       "\t<tr><td>23.15</td><td>118</td><td>14.03</td></tr>\n",
       "\t<tr><td>27.05</td><td> 90</td><td>17.21</td></tr>\n",
       "\t<tr><td>19.57</td><td> 70</td><td>17.96</td></tr>\n",
       "\t<tr><td>23.10</td><td> 84</td><td>23.04</td></tr>\n",
       "\t<tr><td>25.25</td><td>106</td><td> 9.73</td></tr>\n",
       "\t<tr><td>20.71</td><td> 97</td><td> 7.59</td></tr>\n",
       "\t<tr><td>38.96</td><td>133</td><td>13.93</td></tr>\n",
       "</tbody>\n",
       "</table>\n"
      ],
      "text/latex": [
       "A tibble: 10 × 3\n",
       "\\begin{tabular}{lll}\n",
       " total\\_day\\_charge & total\\_eve\\_calls & total\\_eve\\_charge\\\\\n",
       " <dbl> & <int> & <dbl>\\\\\n",
       "\\hline\n",
       "\t 11.63 & 110 & 16.43\\\\\n",
       "\t 21.90 &  52 & 13.37\\\\\n",
       "\t 32.37 & 107 &  7.82\\\\\n",
       "\t 23.15 & 118 & 14.03\\\\\n",
       "\t 27.05 &  90 & 17.21\\\\\n",
       "\t 19.57 &  70 & 17.96\\\\\n",
       "\t 23.10 &  84 & 23.04\\\\\n",
       "\t 25.25 & 106 &  9.73\\\\\n",
       "\t 20.71 &  97 &  7.59\\\\\n",
       "\t 38.96 & 133 & 13.93\\\\\n",
       "\\end{tabular}\n"
      ],
      "text/markdown": [
       "\n",
       "A tibble: 10 × 3\n",
       "\n",
       "| total_day_charge &lt;dbl&gt; | total_eve_calls &lt;int&gt; | total_eve_charge &lt;dbl&gt; |\n",
       "|---|---|---|\n",
       "| 11.63 | 110 | 16.43 |\n",
       "| 21.90 |  52 | 13.37 |\n",
       "| 32.37 | 107 |  7.82 |\n",
       "| 23.15 | 118 | 14.03 |\n",
       "| 27.05 |  90 | 17.21 |\n",
       "| 19.57 |  70 | 17.96 |\n",
       "| 23.10 |  84 | 23.04 |\n",
       "| 25.25 | 106 |  9.73 |\n",
       "| 20.71 |  97 |  7.59 |\n",
       "| 38.96 | 133 | 13.93 |\n",
       "\n"
      ],
      "text/plain": [
       "   total_day_charge total_eve_calls total_eve_charge\n",
       "1  11.63            110             16.43           \n",
       "2  21.90             52             13.37           \n",
       "3  32.37            107              7.82           \n",
       "4  23.15            118             14.03           \n",
       "5  27.05             90             17.21           \n",
       "6  19.57             70             17.96           \n",
       "7  23.10             84             23.04           \n",
       "8  25.25            106              9.73           \n",
       "9  20.71             97              7.59           \n",
       "10 38.96            133             13.93           "
      ]
     },
     "metadata": {},
     "output_type": "display_data"
    }
   ],
   "source": [
    "head(Clientes_Historicos, 10)"
   ]
  },
  {
   "cell_type": "code",
   "execution_count": 10,
   "metadata": {
    "id": "sTou9Xueif9K"
   },
   "outputs": [],
   "source": [
    "clustering_model <- kcca(Clientes_Historicos, k = 3, family = kccaFamily(\"kmeans\"), save.data = TRUE)"
   ]
  },
  {
   "cell_type": "code",
   "execution_count": 11,
   "metadata": {
    "colab": {
     "base_uri": "https://localhost:8080/",
     "height": 207
    },
    "id": "cgHVdqVbnLpB",
    "outputId": "1ea26aac-3f54-45d8-dc80-1e6ccb0902fc"
   },
   "outputs": [
    {
     "data": {
      "text/html": [
       "<table class=\"dataframe\">\n",
       "<caption>A tibble: 6 × 4</caption>\n",
       "<thead>\n",
       "\t<tr><th scope=col>total_day_charge</th><th scope=col>total_eve_calls</th><th scope=col>total_eve_charge</th><th scope=col>clustering_group</th></tr>\n",
       "\t<tr><th scope=col>&lt;dbl&gt;</th><th scope=col>&lt;int&gt;</th><th scope=col>&lt;dbl&gt;</th><th scope=col>&lt;int&gt;</th></tr>\n",
       "</thead>\n",
       "<tbody>\n",
       "\t<tr><td>11.63</td><td>110</td><td>16.43</td><td>3</td></tr>\n",
       "\t<tr><td>21.90</td><td> 52</td><td>13.37</td><td>1</td></tr>\n",
       "\t<tr><td>32.37</td><td>107</td><td> 7.82</td><td>3</td></tr>\n",
       "\t<tr><td>23.15</td><td>118</td><td>14.03</td><td>2</td></tr>\n",
       "\t<tr><td>27.05</td><td> 90</td><td>17.21</td><td>3</td></tr>\n",
       "\t<tr><td>19.57</td><td> 70</td><td>17.96</td><td>1</td></tr>\n",
       "</tbody>\n",
       "</table>\n"
      ],
      "text/latex": [
       "A tibble: 6 × 4\n",
       "\\begin{tabular}{llll}\n",
       " total\\_day\\_charge & total\\_eve\\_calls & total\\_eve\\_charge & clustering\\_group\\\\\n",
       " <dbl> & <int> & <dbl> & <int>\\\\\n",
       "\\hline\n",
       "\t 11.63 & 110 & 16.43 & 3\\\\\n",
       "\t 21.90 &  52 & 13.37 & 1\\\\\n",
       "\t 32.37 & 107 &  7.82 & 3\\\\\n",
       "\t 23.15 & 118 & 14.03 & 2\\\\\n",
       "\t 27.05 &  90 & 17.21 & 3\\\\\n",
       "\t 19.57 &  70 & 17.96 & 1\\\\\n",
       "\\end{tabular}\n"
      ],
      "text/markdown": [
       "\n",
       "A tibble: 6 × 4\n",
       "\n",
       "| total_day_charge &lt;dbl&gt; | total_eve_calls &lt;int&gt; | total_eve_charge &lt;dbl&gt; | clustering_group &lt;int&gt; |\n",
       "|---|---|---|---|\n",
       "| 11.63 | 110 | 16.43 | 3 |\n",
       "| 21.90 |  52 | 13.37 | 1 |\n",
       "| 32.37 | 107 |  7.82 | 3 |\n",
       "| 23.15 | 118 | 14.03 | 2 |\n",
       "| 27.05 |  90 | 17.21 | 3 |\n",
       "| 19.57 |  70 | 17.96 | 1 |\n",
       "\n"
      ],
      "text/plain": [
       "  total_day_charge total_eve_calls total_eve_charge clustering_group\n",
       "1 11.63            110             16.43            3               \n",
       "2 21.90             52             13.37            1               \n",
       "3 32.37            107              7.82            3               \n",
       "4 23.15            118             14.03            2               \n",
       "5 27.05             90             17.21            3               \n",
       "6 19.57             70             17.96            1               "
      ]
     },
     "metadata": {},
     "output_type": "display_data"
    }
   ],
   "source": [
    "Clientes_Historicos %>% \n",
    "  mutate(clustering_group = clusters(clustering_model)) %>%\n",
    "  head()"
   ]
  },
  {
   "cell_type": "code",
   "execution_count": 12,
   "metadata": {
    "id": "WQmvzvfRnbgK"
   },
   "outputs": [],
   "source": [
    "dimensionality_reduction_model <- prcomp(Clientes_Historicos)"
   ]
  },
  {
   "cell_type": "code",
   "execution_count": 13,
   "metadata": {
    "colab": {
     "base_uri": "https://localhost:8080/",
     "height": 271
    },
    "id": "bYtadcvOnlpj",
    "outputId": "32e8ad95-5ab3-42bc-bbde-9ce97907a9d0"
   },
   "outputs": [
    {
     "data": {
      "text/html": [
       "<table class=\"dataframe\">\n",
       "<caption>A matrix: 10 × 3 of type dbl</caption>\n",
       "<thead>\n",
       "\t<tr><th scope=col>PC1</th><th scope=col>PC2</th><th scope=col>PC3</th></tr>\n",
       "</thead>\n",
       "<tbody>\n",
       "\t<tr><td>-10.004176</td><td>18.937223</td><td>-0.94057801</td></tr>\n",
       "\t<tr><td> 48.011053</td><td> 8.699908</td><td>-3.81582211</td></tr>\n",
       "\t<tr><td> -6.971854</td><td>-1.923129</td><td>-9.24301298</td></tr>\n",
       "\t<tr><td>-17.987632</td><td> 7.372639</td><td>-3.17557304</td></tr>\n",
       "\t<tr><td> 10.015557</td><td> 3.556766</td><td> 0.07756251</td></tr>\n",
       "\t<tr><td> 30.005282</td><td>11.073373</td><td> 0.72904833</td></tr>\n",
       "\t<tr><td> 16.006897</td><td> 7.599958</td><td> 5.85232131</td></tr>\n",
       "\t<tr><td> -5.982329</td><td> 5.225493</td><td>-7.43731579</td></tr>\n",
       "\t<tr><td>  3.012984</td><td> 9.745418</td><td>-9.63863825</td></tr>\n",
       "\t<tr><td>-32.966827</td><td>-8.456906</td><td>-3.05178502</td></tr>\n",
       "</tbody>\n",
       "</table>\n"
      ],
      "text/latex": [
       "A matrix: 10 × 3 of type dbl\n",
       "\\begin{tabular}{lll}\n",
       " PC1 & PC2 & PC3\\\\\n",
       "\\hline\n",
       "\t -10.004176 & 18.937223 & -0.94057801\\\\\n",
       "\t  48.011053 &  8.699908 & -3.81582211\\\\\n",
       "\t  -6.971854 & -1.923129 & -9.24301298\\\\\n",
       "\t -17.987632 &  7.372639 & -3.17557304\\\\\n",
       "\t  10.015557 &  3.556766 &  0.07756251\\\\\n",
       "\t  30.005282 & 11.073373 &  0.72904833\\\\\n",
       "\t  16.006897 &  7.599958 &  5.85232131\\\\\n",
       "\t  -5.982329 &  5.225493 & -7.43731579\\\\\n",
       "\t   3.012984 &  9.745418 & -9.63863825\\\\\n",
       "\t -32.966827 & -8.456906 & -3.05178502\\\\\n",
       "\\end{tabular}\n"
      ],
      "text/markdown": [
       "\n",
       "A matrix: 10 × 3 of type dbl\n",
       "\n",
       "| PC1 | PC2 | PC3 |\n",
       "|---|---|---|\n",
       "| -10.004176 | 18.937223 | -0.94057801 |\n",
       "|  48.011053 |  8.699908 | -3.81582211 |\n",
       "|  -6.971854 | -1.923129 | -9.24301298 |\n",
       "| -17.987632 |  7.372639 | -3.17557304 |\n",
       "|  10.015557 |  3.556766 |  0.07756251 |\n",
       "|  30.005282 | 11.073373 |  0.72904833 |\n",
       "|  16.006897 |  7.599958 |  5.85232131 |\n",
       "|  -5.982329 |  5.225493 | -7.43731579 |\n",
       "|   3.012984 |  9.745418 | -9.63863825 |\n",
       "| -32.966827 | -8.456906 | -3.05178502 |\n",
       "\n"
      ],
      "text/plain": [
       "      PC1        PC2       PC3        \n",
       " [1,] -10.004176 18.937223 -0.94057801\n",
       " [2,]  48.011053  8.699908 -3.81582211\n",
       " [3,]  -6.971854 -1.923129 -9.24301298\n",
       " [4,] -17.987632  7.372639 -3.17557304\n",
       " [5,]  10.015557  3.556766  0.07756251\n",
       " [6,]  30.005282 11.073373  0.72904833\n",
       " [7,]  16.006897  7.599958  5.85232131\n",
       " [8,]  -5.982329  5.225493 -7.43731579\n",
       " [9,]   3.012984  9.745418 -9.63863825\n",
       "[10,] -32.966827 -8.456906 -3.05178502"
      ]
     },
     "metadata": {},
     "output_type": "display_data"
    }
   ],
   "source": [
    "head(dimensionality_reduction_model$x, 10)"
   ]
  },
  {
   "cell_type": "code",
   "execution_count": 14,
   "metadata": {
    "id": "hR0ktPFEn1e7"
   },
   "outputs": [],
   "source": [
    "Clientes_Historicos <- mutate(Clientes_Historicos,\n",
    "    clustering_group = clusters(clustering_model),\n",
    "    PC1 = dimensionality_reduction_model$x[, \"PC1\"],\n",
    "    PC2 = dimensionality_reduction_model$x[, \"PC2\"]\n",
    "  )"
   ]
  },
  {
   "cell_type": "code",
   "execution_count": 15,
   "metadata": {
    "colab": {
     "base_uri": "https://localhost:8080/",
     "height": 293
    },
    "id": "daj9jhdBoF8R",
    "outputId": "9a08a3d6-0ef5-483d-ed3e-04caa7b0989a"
   },
   "outputs": [
    {
     "data": {
      "text/html": [
       "<table class=\"dataframe\">\n",
       "<caption>A tibble: 10 × 6</caption>\n",
       "<thead>\n",
       "\t<tr><th scope=col>total_day_charge</th><th scope=col>total_eve_calls</th><th scope=col>total_eve_charge</th><th scope=col>clustering_group</th><th scope=col>PC1</th><th scope=col>PC2</th></tr>\n",
       "\t<tr><th scope=col>&lt;dbl&gt;</th><th scope=col>&lt;int&gt;</th><th scope=col>&lt;dbl&gt;</th><th scope=col>&lt;int&gt;</th><th scope=col>&lt;dbl&gt;</th><th scope=col>&lt;dbl&gt;</th></tr>\n",
       "</thead>\n",
       "<tbody>\n",
       "\t<tr><td>11.63</td><td>110</td><td>16.43</td><td>3</td><td>-10.004176</td><td>18.937223</td></tr>\n",
       "\t<tr><td>21.90</td><td> 52</td><td>13.37</td><td>1</td><td> 48.011053</td><td> 8.699908</td></tr>\n",
       "\t<tr><td>32.37</td><td>107</td><td> 7.82</td><td>3</td><td> -6.971854</td><td>-1.923129</td></tr>\n",
       "\t<tr><td>23.15</td><td>118</td><td>14.03</td><td>2</td><td>-17.987632</td><td> 7.372639</td></tr>\n",
       "\t<tr><td>27.05</td><td> 90</td><td>17.21</td><td>3</td><td> 10.015557</td><td> 3.556766</td></tr>\n",
       "\t<tr><td>19.57</td><td> 70</td><td>17.96</td><td>1</td><td> 30.005282</td><td>11.073373</td></tr>\n",
       "\t<tr><td>23.10</td><td> 84</td><td>23.04</td><td>1</td><td> 16.006897</td><td> 7.599958</td></tr>\n",
       "\t<tr><td>25.25</td><td>106</td><td> 9.73</td><td>3</td><td> -5.982329</td><td> 5.225493</td></tr>\n",
       "\t<tr><td>20.71</td><td> 97</td><td> 7.59</td><td>3</td><td>  3.012984</td><td> 9.745418</td></tr>\n",
       "\t<tr><td>38.96</td><td>133</td><td>13.93</td><td>2</td><td>-32.966827</td><td>-8.456906</td></tr>\n",
       "</tbody>\n",
       "</table>\n"
      ],
      "text/latex": [
       "A tibble: 10 × 6\n",
       "\\begin{tabular}{llllll}\n",
       " total\\_day\\_charge & total\\_eve\\_calls & total\\_eve\\_charge & clustering\\_group & PC1 & PC2\\\\\n",
       " <dbl> & <int> & <dbl> & <int> & <dbl> & <dbl>\\\\\n",
       "\\hline\n",
       "\t 11.63 & 110 & 16.43 & 3 & -10.004176 & 18.937223\\\\\n",
       "\t 21.90 &  52 & 13.37 & 1 &  48.011053 &  8.699908\\\\\n",
       "\t 32.37 & 107 &  7.82 & 3 &  -6.971854 & -1.923129\\\\\n",
       "\t 23.15 & 118 & 14.03 & 2 & -17.987632 &  7.372639\\\\\n",
       "\t 27.05 &  90 & 17.21 & 3 &  10.015557 &  3.556766\\\\\n",
       "\t 19.57 &  70 & 17.96 & 1 &  30.005282 & 11.073373\\\\\n",
       "\t 23.10 &  84 & 23.04 & 1 &  16.006897 &  7.599958\\\\\n",
       "\t 25.25 & 106 &  9.73 & 3 &  -5.982329 &  5.225493\\\\\n",
       "\t 20.71 &  97 &  7.59 & 3 &   3.012984 &  9.745418\\\\\n",
       "\t 38.96 & 133 & 13.93 & 2 & -32.966827 & -8.456906\\\\\n",
       "\\end{tabular}\n"
      ],
      "text/markdown": [
       "\n",
       "A tibble: 10 × 6\n",
       "\n",
       "| total_day_charge &lt;dbl&gt; | total_eve_calls &lt;int&gt; | total_eve_charge &lt;dbl&gt; | clustering_group &lt;int&gt; | PC1 &lt;dbl&gt; | PC2 &lt;dbl&gt; |\n",
       "|---|---|---|---|---|---|\n",
       "| 11.63 | 110 | 16.43 | 3 | -10.004176 | 18.937223 |\n",
       "| 21.90 |  52 | 13.37 | 1 |  48.011053 |  8.699908 |\n",
       "| 32.37 | 107 |  7.82 | 3 |  -6.971854 | -1.923129 |\n",
       "| 23.15 | 118 | 14.03 | 2 | -17.987632 |  7.372639 |\n",
       "| 27.05 |  90 | 17.21 | 3 |  10.015557 |  3.556766 |\n",
       "| 19.57 |  70 | 17.96 | 1 |  30.005282 | 11.073373 |\n",
       "| 23.10 |  84 | 23.04 | 1 |  16.006897 |  7.599958 |\n",
       "| 25.25 | 106 |  9.73 | 3 |  -5.982329 |  5.225493 |\n",
       "| 20.71 |  97 |  7.59 | 3 |   3.012984 |  9.745418 |\n",
       "| 38.96 | 133 | 13.93 | 2 | -32.966827 | -8.456906 |\n",
       "\n"
      ],
      "text/plain": [
       "   total_day_charge total_eve_calls total_eve_charge clustering_group\n",
       "1  11.63            110             16.43            3               \n",
       "2  21.90             52             13.37            1               \n",
       "3  32.37            107              7.82            3               \n",
       "4  23.15            118             14.03            2               \n",
       "5  27.05             90             17.21            3               \n",
       "6  19.57             70             17.96            1               \n",
       "7  23.10             84             23.04            1               \n",
       "8  25.25            106              9.73            3               \n",
       "9  20.71             97              7.59            3               \n",
       "10 38.96            133             13.93            2               \n",
       "   PC1        PC2      \n",
       "1  -10.004176 18.937223\n",
       "2   48.011053  8.699908\n",
       "3   -6.971854 -1.923129\n",
       "4  -17.987632  7.372639\n",
       "5   10.015557  3.556766\n",
       "6   30.005282 11.073373\n",
       "7   16.006897  7.599958\n",
       "8   -5.982329  5.225493\n",
       "9    3.012984  9.745418\n",
       "10 -32.966827 -8.456906"
      ]
     },
     "metadata": {},
     "output_type": "display_data"
    }
   ],
   "source": [
    "head(Clientes_Historicos, 10)"
   ]
  },
  {
   "cell_type": "code",
   "execution_count": 16,
   "metadata": {
    "colab": {
     "base_uri": "https://localhost:8080/",
     "height": 437
    },
    "id": "lhW6ZipjodHW",
    "outputId": "643bd310-503e-4078-aab1-e739276efc4f"
   },
   "outputs": [
    {
     "data": {
      "image/png": "[encoded data removed]",
      "text/plain": [
       "plot without title"
      ]
     },
     "metadata": {
      "image/png": {
       "height": 420,
       "width": 420
      }
     },
     "output_type": "display_data"
    }
   ],
   "source": [
    "ggplot(Clientes_Historicos, aes(PC1, PC2)) + geom_point()"
   ]
  },
  {
   "cell_type": "code",
   "execution_count": 17,
   "metadata": {
    "colab": {
     "base_uri": "https://localhost:8080/",
     "height": 437
    },
    "id": "DUREsFS4oqYs",
    "outputId": "9eca00c9-6b1b-48d2-c131-3bb7c1ffad46"
   },
   "outputs": [
    {
     "data": {
      "image/png": "[encoded data removed]",
      "text/plain": [
       "plot without title"
      ]
     },
     "metadata": {
      "image/png": {
       "height": 420,
       "width": 420
      }
     },
     "output_type": "display_data"
    }
   ],
   "source": [
    "ggplot(Clientes_Historicos, aes(PC1, PC2)) + \n",
    "  geom_point(aes(color = factor(clustering_group))) + \n",
    "  labs(color = \"Cluster\")"
   ]
  },
  {
   "cell_type": "code",
   "execution_count": 18,
   "metadata": {
    "id": "q9sCx5Z7o3qL"
   },
   "outputs": [],
   "source": [
    "Clientes_Nuevos <- select(churnTest, total_day_charge, total_eve_calls, total_eve_charge)"
   ]
  },
  {
   "cell_type": "code",
   "execution_count": 19,
   "metadata": {
    "colab": {
     "base_uri": "https://localhost:8080/",
     "height": 186
    },
    "id": "QBstp1Y-pOeY",
    "outputId": "fd0ede7d-dd95-4410-a3d4-a1c0ea3f9465"
   },
   "outputs": [
    {
     "data": {
      "text/html": [
       "<table class=\"dataframe\">\n",
       "<caption>A tibble: 5 × 3</caption>\n",
       "<thead>\n",
       "\t<tr><th scope=col>total_day_charge</th><th scope=col>total_eve_calls</th><th scope=col>total_eve_charge</th></tr>\n",
       "\t<tr><th scope=col>&lt;dbl&gt;</th><th scope=col>&lt;int&gt;</th><th scope=col>&lt;dbl&gt;</th></tr>\n",
       "</thead>\n",
       "<tbody>\n",
       "\t<tr><td>45.07</td><td> 99</td><td>16.78</td></tr>\n",
       "\t<tr><td>41.38</td><td>110</td><td>10.30</td></tr>\n",
       "\t<tr><td>26.69</td><td> 94</td><td> 8.76</td></tr>\n",
       "\t<tr><td>43.96</td><td>111</td><td>18.87</td></tr>\n",
       "\t<tr><td>10.61</td><td>121</td><td>14.44</td></tr>\n",
       "</tbody>\n",
       "</table>\n"
      ],
      "text/latex": [
       "A tibble: 5 × 3\n",
       "\\begin{tabular}{lll}\n",
       " total\\_day\\_charge & total\\_eve\\_calls & total\\_eve\\_charge\\\\\n",
       " <dbl> & <int> & <dbl>\\\\\n",
       "\\hline\n",
       "\t 45.07 &  99 & 16.78\\\\\n",
       "\t 41.38 & 110 & 10.30\\\\\n",
       "\t 26.69 &  94 &  8.76\\\\\n",
       "\t 43.96 & 111 & 18.87\\\\\n",
       "\t 10.61 & 121 & 14.44\\\\\n",
       "\\end{tabular}\n"
      ],
      "text/markdown": [
       "\n",
       "A tibble: 5 × 3\n",
       "\n",
       "| total_day_charge &lt;dbl&gt; | total_eve_calls &lt;int&gt; | total_eve_charge &lt;dbl&gt; |\n",
       "|---|---|---|\n",
       "| 45.07 |  99 | 16.78 |\n",
       "| 41.38 | 110 | 10.30 |\n",
       "| 26.69 |  94 |  8.76 |\n",
       "| 43.96 | 111 | 18.87 |\n",
       "| 10.61 | 121 | 14.44 |\n",
       "\n"
      ],
      "text/plain": [
       "  total_day_charge total_eve_calls total_eve_charge\n",
       "1 45.07             99             16.78           \n",
       "2 41.38            110             10.30           \n",
       "3 26.69             94              8.76           \n",
       "4 43.96            111             18.87           \n",
       "5 10.61            121             14.44           "
      ]
     },
     "metadata": {},
     "output_type": "display_data"
    }
   ],
   "source": [
    "head(Clientes_Nuevos, 5)"
   ]
  },
  {
   "cell_type": "code",
   "execution_count": 20,
   "metadata": {
    "id": "ghxbT-YOpP5D"
   },
   "outputs": [],
   "source": [
    "clustering_group_prediction <- clusters(clustering_model, Clientes_Nuevos)"
   ]
  },
  {
   "cell_type": "code",
   "execution_count": 21,
   "metadata": {
    "id": "1x5ypbGUpfDr"
   },
   "outputs": [],
   "source": [
    "dimensionality_reduction_model_nuevo <- prcomp(Clientes_Nuevos)"
   ]
  },
  {
   "cell_type": "code",
   "execution_count": 22,
   "metadata": {
    "id": "xOEPVD7WpoCS"
   },
   "outputs": [],
   "source": [
    "Clientes_Nuevos <- mutate(Clientes_Nuevos, \n",
    "    clustering_group_prediction,\n",
    "    PC1 = dimensionality_reduction_model_nuevo$x[, \"PC1\"],\n",
    "    PC2 = dimensionality_reduction_model_nuevo$x[, \"PC2\"])"
   ]
  },
  {
   "cell_type": "code",
   "execution_count": 23,
   "metadata": {
    "colab": {
     "base_uri": "https://localhost:8080/",
     "height": 293
    },
    "id": "toJsK9d3qSC4",
    "outputId": "e60cf151-1fc1-46ba-c21c-df04a8291e1b"
   },
   "outputs": [
    {
     "data": {
      "text/html": [
       "<table class=\"dataframe\">\n",
       "<caption>A tibble: 10 × 6</caption>\n",
       "<thead>\n",
       "\t<tr><th scope=col>total_day_charge</th><th scope=col>total_eve_calls</th><th scope=col>total_eve_charge</th><th scope=col>clustering_group_prediction</th><th scope=col>PC1</th><th scope=col>PC2</th></tr>\n",
       "\t<tr><th scope=col>&lt;dbl&gt;</th><th scope=col>&lt;int&gt;</th><th scope=col>&lt;dbl&gt;</th><th scope=col>&lt;int&gt;</th><th scope=col>&lt;dbl&gt;</th><th scope=col>&lt;dbl&gt;</th></tr>\n",
       "</thead>\n",
       "<tbody>\n",
       "\t<tr><td>45.07</td><td> 99</td><td>16.78</td><td>3</td><td> -1.316266</td><td> 14.3101850</td></tr>\n",
       "\t<tr><td>41.38</td><td>110</td><td>10.30</td><td>3</td><td>  9.605504</td><td> 10.3300719</td></tr>\n",
       "\t<tr><td>26.69</td><td> 94</td><td> 8.76</td><td>3</td><td> -6.673599</td><td> -4.0694509</td></tr>\n",
       "\t<tr><td>43.96</td><td>111</td><td>18.87</td><td>3</td><td> 10.662174</td><td> 12.9971448</td></tr>\n",
       "\t<tr><td>10.61</td><td>121</td><td>14.44</td><td>2</td><td> 20.019242</td><td>-20.5905648</td></tr>\n",
       "\t<tr><td>31.11</td><td> 99</td><td> 6.20</td><td>3</td><td> -1.592321</td><td>  0.2218975</td></tr>\n",
       "\t<tr><td>32.30</td><td> 84</td><td>21.95</td><td>1</td><td>-16.552950</td><td>  1.8947143</td></tr>\n",
       "\t<tr><td>38.44</td><td>107</td><td>17.13</td><td>3</td><td>  6.555904</td><td>  7.5333496</td></tr>\n",
       "\t<tr><td>30.06</td><td> 75</td><td>16.58</td><td>1</td><td>-25.598838</td><td> -0.2396192</td></tr>\n",
       "\t<tr><td>29.43</td><td>107</td><td>17.33</td><td>3</td><td>  6.383933</td><td> -1.4718096</td></tr>\n",
       "</tbody>\n",
       "</table>\n"
      ],
      "text/latex": [
       "A tibble: 10 × 6\n",
       "\\begin{tabular}{llllll}\n",
       " total\\_day\\_charge & total\\_eve\\_calls & total\\_eve\\_charge & clustering\\_group\\_prediction & PC1 & PC2\\\\\n",
       " <dbl> & <int> & <dbl> & <int> & <dbl> & <dbl>\\\\\n",
       "\\hline\n",
       "\t 45.07 &  99 & 16.78 & 3 &  -1.316266 &  14.3101850\\\\\n",
       "\t 41.38 & 110 & 10.30 & 3 &   9.605504 &  10.3300719\\\\\n",
       "\t 26.69 &  94 &  8.76 & 3 &  -6.673599 &  -4.0694509\\\\\n",
       "\t 43.96 & 111 & 18.87 & 3 &  10.662174 &  12.9971448\\\\\n",
       "\t 10.61 & 121 & 14.44 & 2 &  20.019242 & -20.5905648\\\\\n",
       "\t 31.11 &  99 &  6.20 & 3 &  -1.592321 &   0.2218975\\\\\n",
       "\t 32.30 &  84 & 21.95 & 1 & -16.552950 &   1.8947143\\\\\n",
       "\t 38.44 & 107 & 17.13 & 3 &   6.555904 &   7.5333496\\\\\n",
       "\t 30.06 &  75 & 16.58 & 1 & -25.598838 &  -0.2396192\\\\\n",
       "\t 29.43 & 107 & 17.33 & 3 &   6.383933 &  -1.4718096\\\\\n",
       "\\end{tabular}\n"
      ],
      "text/markdown": [
       "\n",
       "A tibble: 10 × 6\n",
       "\n",
       "| total_day_charge &lt;dbl&gt; | total_eve_calls &lt;int&gt; | total_eve_charge &lt;dbl&gt; | clustering_group_prediction &lt;int&gt; | PC1 &lt;dbl&gt; | PC2 &lt;dbl&gt; |\n",
       "|---|---|---|---|---|---|\n",
       "| 45.07 |  99 | 16.78 | 3 |  -1.316266 |  14.3101850 |\n",
       "| 41.38 | 110 | 10.30 | 3 |   9.605504 |  10.3300719 |\n",
       "| 26.69 |  94 |  8.76 | 3 |  -6.673599 |  -4.0694509 |\n",
       "| 43.96 | 111 | 18.87 | 3 |  10.662174 |  12.9971448 |\n",
       "| 10.61 | 121 | 14.44 | 2 |  20.019242 | -20.5905648 |\n",
       "| 31.11 |  99 |  6.20 | 3 |  -1.592321 |   0.2218975 |\n",
       "| 32.30 |  84 | 21.95 | 1 | -16.552950 |   1.8947143 |\n",
       "| 38.44 | 107 | 17.13 | 3 |   6.555904 |   7.5333496 |\n",
       "| 30.06 |  75 | 16.58 | 1 | -25.598838 |  -0.2396192 |\n",
       "| 29.43 | 107 | 17.33 | 3 |   6.383933 |  -1.4718096 |\n",
       "\n"
      ],
      "text/plain": [
       "   total_day_charge total_eve_calls total_eve_charge\n",
       "1  45.07             99             16.78           \n",
       "2  41.38            110             10.30           \n",
       "3  26.69             94              8.76           \n",
       "4  43.96            111             18.87           \n",
       "5  10.61            121             14.44           \n",
       "6  31.11             99              6.20           \n",
       "7  32.30             84             21.95           \n",
       "8  38.44            107             17.13           \n",
       "9  30.06             75             16.58           \n",
       "10 29.43            107             17.33           \n",
       "   clustering_group_prediction PC1        PC2        \n",
       "1  3                            -1.316266  14.3101850\n",
       "2  3                             9.605504  10.3300719\n",
       "3  3                            -6.673599  -4.0694509\n",
       "4  3                            10.662174  12.9971448\n",
       "5  2                            20.019242 -20.5905648\n",
       "6  3                            -1.592321   0.2218975\n",
       "7  1                           -16.552950   1.8947143\n",
       "8  3                             6.555904   7.5333496\n",
       "9  1                           -25.598838  -0.2396192\n",
       "10 3                             6.383933  -1.4718096"
      ]
     },
     "metadata": {},
     "output_type": "display_data"
    }
   ],
   "source": [
    "head(Clientes_Nuevos, 10)"
   ]
  },
  {
   "cell_type": "code",
   "execution_count": 24,
   "metadata": {
    "colab": {
     "base_uri": "https://localhost:8080/",
     "height": 437
    },
    "id": "hIZn6N_ZqodP",
    "outputId": "be05aa97-ed78-48bd-e0aa-034a1fdf91f7"
   },
   "outputs": [
    {
     "data": {
      "image/png": "[encoded data removed]",
      "text/plain": [
       "plot without title"
      ]
     },
     "metadata": {
      "image/png": {
       "height": 420,
       "width": 420
      }
     },
     "output_type": "display_data"
    }
   ],
   "source": [
    "ggplot(Clientes_Historicos, aes(PC1, PC2, color = factor(clustering_group))) + geom_point() + \n",
    "  geom_point(data = head(Clientes_Nuevos, 6), size = 6, color = \"black\") + \n",
    "  geom_point(data = head(Clientes_Nuevos, 6), aes( color = factor(clustering_group_prediction)), size = 5)+ \n",
    "  labs(color = \"Cluster\")"
   ]
  }
 ],
 "metadata": {
  "colab": {
   "authorship_tag": "ABX9TyMcn3KLJA2uhZTSBsa/HNu/",
   "collapsed_sections": [],
   "include_colab_link": true,
   "name": "Example Segmentation and dimensionality reduction in R.ipynb",
   "provenance": []
  },
  "kernelspec": {
   "display_name": "R",
   "language": "R",
   "name": "ir"
  },
  "language_info": {
   "codemirror_mode": "r",
   "file_extension": ".r",
   "mimetype": "text/x-r-source",
   "name": "R",
   "pygments_lexer": "r",
   "version": "4.0.5"
  }
 },
 "nbformat": 4,
 "nbformat_minor": 4
}
